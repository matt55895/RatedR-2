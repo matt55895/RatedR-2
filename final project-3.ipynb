{
 "cells": [
  {
   "cell_type": "markdown",
   "metadata": {},
   "source": [
    "# Bang For Your Buck: MLB Edition\n",
    "\n",
    "## By : Rated R^2 (Matthew Phillips, Jacob Laundroche, Esther Shin, Gerrad , Jackson )"
   ]
  },
  {
   "cell_type": "markdown",
   "metadata": {},
   "source": [
    "### Research Question: \n",
    "Are position players on higher salaries actually performing better as hitters? If so, which batting statistics are most telling in how much a player is getting paid?"
   ]
  },
  {
   "cell_type": "markdown",
   "metadata": {},
   "source": [
    "### Background Information\n",
    "\n",
    "   ####    For this project, our group, Rated R^2, analyzed Sean Lahman's baseball datasets in order to deeper evaluate the game of baseball. After battling with deciding where to take our research, we decided to focus on one of the hottest topics in Major League Baseball right now, money. This offseason some players, like Bryce Harper, Mike Trout, and Manny Machado, signed contracts for 300+ million dollars. With that in mind,  we wanted to see if some players are really as valuable as they seem. For this reason, our data focuses on the batting attributes of every position player from the 2007-2016 seasons in order for us to evaluate their salaries. Because baseball data is recorded at every baseball game, we are able to look at players from all 30 teams from both the American League and National League Divisions that comprise Major Leage Baseball over each regular season, 162 games, in order to draw conclusions about which salary range of players are worth the money.\n",
    "   ####   Baseball is a game played between 2 teams with 9 players playing at a time on each team. Each player plays a different position on the field, Pitcher, Catcher, Third Base, Shortstop, Second Base, First Base, Right Field, Center Field, and Left Field. While one team plays the field, the opposing team is on offense or hitting/batting. There are 9 innings in a Major League Baseball game with each team receiving an opportunity to bat in each inning. Each player or batter on the offensive team has an opportunity to reach base where they recieve pitches from the pitcher and attempt to hit the ball or get on base a different way. It is importnat to note here that pitchers typically are poor hitters, and in the American League, someone is allowed to hit for them in the game (this is called a DH or designated hitter). A batter receives pitches from the pitcher that either lead to a strikeout, walk, hit, out, error, sacrifice, or hit-by-pitch. A strikeout is recorded if the pitcher successfully throws the batter three strikes without the batter hitting the third strike. A walk is recorded if the pitcher throws 4 balls before throwing 3 strikes in which the batter is allowed to go to first base. A hit is recorded if the batter makes contact with ball in the field of play and the defensive team is unable to field the ball without making an error. An out is recorded if the batter hits a ball and the defense successfully field the ball causing the player to be out. With three outs, the teams switch from offense to defense (this occurs 18 times in a Major League Baseball game). An error is recorded if the defensive team has a chance to field the ball after the batter has hit the ball, yet they poorly execute the play and the hitter still reaches base safely. A sacrifice is when a batter hits a ball which results in an out, yet a runner on a base advances to the next base. A hit-by-pitch is recorded if a pitcher hits a batter with his pitch; this allows the batter to take first base. When a batter gets on base, he now becomes a runner and tries to touch all four bases before his/her team receives three outs. If at anytime, a batter helps a runner on base score a run, the batter receives an RBI, run-batted-in. Everytime a batter receives an out, error, hit, or strikeout a batter receives an At Bat (‘AB’ in this dataset); walks, sacrifices, and hit-by-pitch do not count for an ‘AB’ for a batter. With this basis of understanding, we trimmed down our data to incorporate these hitting statistics to help look at salary for players. \n",
    "   ####    In order to get more specific hitting stats, we broke hits down into doubles, triples and homeruns. A double is anytime a player gets a hit and is able to reach second base before the defense can successfully field the ball with no errors. Similarly, a triple is anytime a batter gets to third base without the fielders being able to make a play with no errors on the ball. Finally, a homerun is when a player either hits the ball out of the park, or is able to touch all four bases before the fielders are able to make a play on the ball with no errors.\n",
    "   ####    Using these hitting statistics for a batter, we created new variables that would better suit our analysis. In order to see how many hits a player averages per at bat, we divided the hits variable by the ‘AB’ variable to get batting average or ‘BA’ in our data. Next, we created ‘BBAB’ which is base-on-balls or walks per ‘AB’. Then, we created ‘TRAB’,  triples per ‘AB’, ‘DOAB’, doubles per ‘AB’, ‘RBIAB, RBIs per ‘AB’, ‘HRAB’, homeruns per ‘AB’, and  ‘SOAB’, strikeouts per ‘AB’. \n",
    "   ####    This dataset we created by merging several of Lahman’s baseball datasets includes the above variables along with ‘salary’ and ‘G_all’ and ‘playerID’ which were also very important in our analysis. The ‘salary’ variable is how much money each player represented by their ‘playerID’ made each year from 2007-2016. We used this variable to create a new variable called ‘quartile’ where we broke up the salaries of players into 4 groups (lowest salary to highest salary quartiles) that we found useful for further analysis for our researche question.  The ‘G_all’ variable shows how many times a player appeared in a game in a year. \n",
    "   ####    From all of this data, we were able to create a way to evaluate hitting attributes and how they tell a story about salaries in baseball. Unsurprisingly, with the vast amount of data available on baseball and with the lack of a salary cap in the MLB, studies trying to relate the two have taken place. One such study comes from the International Journal of Sports Studies. This study, by Hoffman and Magel, focused on both pitcher and position players, looking at them separately by yearly and career statistics. With their models, they appeared to have the most success in trying to predict the salaries of position players and depending on whether yearly or career statistics were being analyzed, different player attributes became more important. For example, hitting statistics were more important when looking at yearly data while variables like position and year became more important in career statistics. This study served as a jumping off point when trying to find what variables to focus on in the exploratory phase of our report.\n"
   ]
  },
  {
   "cell_type": "code",
   "execution_count": 1,
   "metadata": {},
   "outputs": [],
   "source": [
    "import numpy as np\n",
    "import pandas as pd\n",
    "import matplotlib.pyplot as plt\n",
    "import statsmodels.api as sm\n",
    "from statsmodels.formula.api import ols\n",
    "import statsmodels.formula.api as smf"
   ]
  },
  {
   "cell_type": "code",
   "execution_count": 2,
   "metadata": {},
   "outputs": [],
   "source": [
    "batting = pd.read_csv(\"~jacob/OneDrive/Documents/2019-sp-stats131-master/Batting.csv\")\n",
    "salaries = pd.read_csv(\"~jacob/OneDrive/Documents/2019-sp-stats131-master/Salaries.csv\")\n",
    "appear = pd.read_csv(\"~jacob/OneDrive/Documents/2019-sp-stats131-master/Appearances.csv\")\n",
    "fielding = pd.read_csv(\"~jacob/OneDrive/Documents/2019-sp-stats131-master/Fielding.csv\")"
   ]
  },
  {
   "cell_type": "markdown",
   "metadata": {},
   "source": [
    "#### The following two merges merge the batting statistics, game appearances data, and the salaries for players in the data.  Each row represents a players statistics from a specific year.  If a player is traded in the middle of a season, the player will be listed twice for the same season."
   ]
  },
  {
   "cell_type": "code",
   "execution_count": 3,
   "metadata": {},
   "outputs": [
    {
     "data": {
      "text/html": [
       "<div>\n",
       "<style scoped>\n",
       "    .dataframe tbody tr th:only-of-type {\n",
       "        vertical-align: middle;\n",
       "    }\n",
       "\n",
       "    .dataframe tbody tr th {\n",
       "        vertical-align: top;\n",
       "    }\n",
       "\n",
       "    .dataframe thead th {\n",
       "        text-align: right;\n",
       "    }\n",
       "</style>\n",
       "<table border=\"1\" class=\"dataframe\">\n",
       "  <thead>\n",
       "    <tr style=\"text-align: right;\">\n",
       "      <th></th>\n",
       "      <th>playerID</th>\n",
       "      <th>yearID</th>\n",
       "      <th>stint</th>\n",
       "      <th>teamID</th>\n",
       "      <th>lgID</th>\n",
       "      <th>G</th>\n",
       "      <th>AB</th>\n",
       "      <th>R</th>\n",
       "      <th>H</th>\n",
       "      <th>2B</th>\n",
       "      <th>...</th>\n",
       "      <th>G_2b</th>\n",
       "      <th>G_3b</th>\n",
       "      <th>G_ss</th>\n",
       "      <th>G_lf</th>\n",
       "      <th>G_cf</th>\n",
       "      <th>G_rf</th>\n",
       "      <th>G_of</th>\n",
       "      <th>G_dh</th>\n",
       "      <th>G_ph</th>\n",
       "      <th>G_pr</th>\n",
       "    </tr>\n",
       "  </thead>\n",
       "  <tbody>\n",
       "    <tr>\n",
       "      <th>0</th>\n",
       "      <td>abercda01</td>\n",
       "      <td>1871</td>\n",
       "      <td>1</td>\n",
       "      <td>TRO</td>\n",
       "      <td>NaN</td>\n",
       "      <td>1</td>\n",
       "      <td>4</td>\n",
       "      <td>0</td>\n",
       "      <td>0</td>\n",
       "      <td>0</td>\n",
       "      <td>...</td>\n",
       "      <td>0</td>\n",
       "      <td>0</td>\n",
       "      <td>1</td>\n",
       "      <td>0</td>\n",
       "      <td>0</td>\n",
       "      <td>0</td>\n",
       "      <td>0</td>\n",
       "      <td>0.0</td>\n",
       "      <td>0.0</td>\n",
       "      <td>0.0</td>\n",
       "    </tr>\n",
       "    <tr>\n",
       "      <th>1</th>\n",
       "      <td>addybo01</td>\n",
       "      <td>1871</td>\n",
       "      <td>1</td>\n",
       "      <td>RC1</td>\n",
       "      <td>NaN</td>\n",
       "      <td>25</td>\n",
       "      <td>118</td>\n",
       "      <td>30</td>\n",
       "      <td>32</td>\n",
       "      <td>6</td>\n",
       "      <td>...</td>\n",
       "      <td>22</td>\n",
       "      <td>0</td>\n",
       "      <td>3</td>\n",
       "      <td>0</td>\n",
       "      <td>0</td>\n",
       "      <td>0</td>\n",
       "      <td>0</td>\n",
       "      <td>0.0</td>\n",
       "      <td>0.0</td>\n",
       "      <td>0.0</td>\n",
       "    </tr>\n",
       "    <tr>\n",
       "      <th>2</th>\n",
       "      <td>allisar01</td>\n",
       "      <td>1871</td>\n",
       "      <td>1</td>\n",
       "      <td>CL1</td>\n",
       "      <td>NaN</td>\n",
       "      <td>29</td>\n",
       "      <td>137</td>\n",
       "      <td>28</td>\n",
       "      <td>40</td>\n",
       "      <td>4</td>\n",
       "      <td>...</td>\n",
       "      <td>2</td>\n",
       "      <td>0</td>\n",
       "      <td>0</td>\n",
       "      <td>0</td>\n",
       "      <td>29</td>\n",
       "      <td>0</td>\n",
       "      <td>29</td>\n",
       "      <td>0.0</td>\n",
       "      <td>0.0</td>\n",
       "      <td>0.0</td>\n",
       "    </tr>\n",
       "    <tr>\n",
       "      <th>3</th>\n",
       "      <td>allisdo01</td>\n",
       "      <td>1871</td>\n",
       "      <td>1</td>\n",
       "      <td>WS3</td>\n",
       "      <td>NaN</td>\n",
       "      <td>27</td>\n",
       "      <td>133</td>\n",
       "      <td>28</td>\n",
       "      <td>44</td>\n",
       "      <td>10</td>\n",
       "      <td>...</td>\n",
       "      <td>0</td>\n",
       "      <td>0</td>\n",
       "      <td>0</td>\n",
       "      <td>0</td>\n",
       "      <td>0</td>\n",
       "      <td>0</td>\n",
       "      <td>0</td>\n",
       "      <td>0.0</td>\n",
       "      <td>0.0</td>\n",
       "      <td>0.0</td>\n",
       "    </tr>\n",
       "    <tr>\n",
       "      <th>4</th>\n",
       "      <td>ansonca01</td>\n",
       "      <td>1871</td>\n",
       "      <td>1</td>\n",
       "      <td>RC1</td>\n",
       "      <td>NaN</td>\n",
       "      <td>25</td>\n",
       "      <td>120</td>\n",
       "      <td>29</td>\n",
       "      <td>39</td>\n",
       "      <td>11</td>\n",
       "      <td>...</td>\n",
       "      <td>2</td>\n",
       "      <td>20</td>\n",
       "      <td>0</td>\n",
       "      <td>1</td>\n",
       "      <td>0</td>\n",
       "      <td>0</td>\n",
       "      <td>1</td>\n",
       "      <td>0.0</td>\n",
       "      <td>0.0</td>\n",
       "      <td>0.0</td>\n",
       "    </tr>\n",
       "  </tbody>\n",
       "</table>\n",
       "<p>5 rows × 39 columns</p>\n",
       "</div>"
      ],
      "text/plain": [
       "    playerID  yearID  stint teamID lgID   G   AB   R   H  2B  ...  G_2b  G_3b  \\\n",
       "0  abercda01    1871      1    TRO  NaN   1    4   0   0   0  ...     0     0   \n",
       "1   addybo01    1871      1    RC1  NaN  25  118  30  32   6  ...    22     0   \n",
       "2  allisar01    1871      1    CL1  NaN  29  137  28  40   4  ...     2     0   \n",
       "3  allisdo01    1871      1    WS3  NaN  27  133  28  44  10  ...     0     0   \n",
       "4  ansonca01    1871      1    RC1  NaN  25  120  29  39  11  ...     2    20   \n",
       "\n",
       "   G_ss  G_lf  G_cf  G_rf  G_of  G_dh  G_ph  G_pr  \n",
       "0     1     0     0     0     0   0.0   0.0   0.0  \n",
       "1     3     0     0     0     0   0.0   0.0   0.0  \n",
       "2     0     0    29     0    29   0.0   0.0   0.0  \n",
       "3     0     0     0     0     0   0.0   0.0   0.0  \n",
       "4     0     1     0     0     1   0.0   0.0   0.0  \n",
       "\n",
       "[5 rows x 39 columns]"
      ]
     },
     "execution_count": 3,
     "metadata": {},
     "output_type": "execute_result"
    }
   ],
   "source": [
    "baseball = batting.merge(right = appear, on=[\"yearID\", \"playerID\", \"teamID\", \"lgID\"])\n",
    "baseball.head()"
   ]
  },
  {
   "cell_type": "code",
   "execution_count": 4,
   "metadata": {},
   "outputs": [
    {
     "data": {
      "text/html": [
       "<div>\n",
       "<style scoped>\n",
       "    .dataframe tbody tr th:only-of-type {\n",
       "        vertical-align: middle;\n",
       "    }\n",
       "\n",
       "    .dataframe tbody tr th {\n",
       "        vertical-align: top;\n",
       "    }\n",
       "\n",
       "    .dataframe thead th {\n",
       "        text-align: right;\n",
       "    }\n",
       "</style>\n",
       "<table border=\"1\" class=\"dataframe\">\n",
       "  <thead>\n",
       "    <tr style=\"text-align: right;\">\n",
       "      <th></th>\n",
       "      <th>playerID</th>\n",
       "      <th>yearID</th>\n",
       "      <th>stint</th>\n",
       "      <th>teamID</th>\n",
       "      <th>lgID</th>\n",
       "      <th>G</th>\n",
       "      <th>AB</th>\n",
       "      <th>R</th>\n",
       "      <th>H</th>\n",
       "      <th>2B</th>\n",
       "      <th>...</th>\n",
       "      <th>G_3b</th>\n",
       "      <th>G_ss</th>\n",
       "      <th>G_lf</th>\n",
       "      <th>G_cf</th>\n",
       "      <th>G_rf</th>\n",
       "      <th>G_of</th>\n",
       "      <th>G_dh</th>\n",
       "      <th>G_ph</th>\n",
       "      <th>G_pr</th>\n",
       "      <th>salary</th>\n",
       "    </tr>\n",
       "  </thead>\n",
       "  <tbody>\n",
       "    <tr>\n",
       "      <th>0</th>\n",
       "      <td>ackerji01</td>\n",
       "      <td>1985</td>\n",
       "      <td>1</td>\n",
       "      <td>TOR</td>\n",
       "      <td>AL</td>\n",
       "      <td>61</td>\n",
       "      <td>0</td>\n",
       "      <td>0</td>\n",
       "      <td>0</td>\n",
       "      <td>0</td>\n",
       "      <td>...</td>\n",
       "      <td>0</td>\n",
       "      <td>0</td>\n",
       "      <td>0</td>\n",
       "      <td>0</td>\n",
       "      <td>0</td>\n",
       "      <td>0</td>\n",
       "      <td>0.0</td>\n",
       "      <td>0.0</td>\n",
       "      <td>0.0</td>\n",
       "      <td>170000</td>\n",
       "    </tr>\n",
       "    <tr>\n",
       "      <th>1</th>\n",
       "      <td>agostju01</td>\n",
       "      <td>1985</td>\n",
       "      <td>1</td>\n",
       "      <td>CHA</td>\n",
       "      <td>AL</td>\n",
       "      <td>54</td>\n",
       "      <td>0</td>\n",
       "      <td>0</td>\n",
       "      <td>0</td>\n",
       "      <td>0</td>\n",
       "      <td>...</td>\n",
       "      <td>0</td>\n",
       "      <td>0</td>\n",
       "      <td>0</td>\n",
       "      <td>0</td>\n",
       "      <td>0</td>\n",
       "      <td>0</td>\n",
       "      <td>0.0</td>\n",
       "      <td>0.0</td>\n",
       "      <td>0.0</td>\n",
       "      <td>147500</td>\n",
       "    </tr>\n",
       "    <tr>\n",
       "      <th>2</th>\n",
       "      <td>aguaylu01</td>\n",
       "      <td>1985</td>\n",
       "      <td>1</td>\n",
       "      <td>PHI</td>\n",
       "      <td>NL</td>\n",
       "      <td>91</td>\n",
       "      <td>165</td>\n",
       "      <td>27</td>\n",
       "      <td>46</td>\n",
       "      <td>7</td>\n",
       "      <td>...</td>\n",
       "      <td>7</td>\n",
       "      <td>60</td>\n",
       "      <td>0</td>\n",
       "      <td>0</td>\n",
       "      <td>0</td>\n",
       "      <td>0</td>\n",
       "      <td>0.0</td>\n",
       "      <td>11.0</td>\n",
       "      <td>9.0</td>\n",
       "      <td>237000</td>\n",
       "    </tr>\n",
       "    <tr>\n",
       "      <th>3</th>\n",
       "      <td>alexado01</td>\n",
       "      <td>1985</td>\n",
       "      <td>1</td>\n",
       "      <td>TOR</td>\n",
       "      <td>AL</td>\n",
       "      <td>36</td>\n",
       "      <td>0</td>\n",
       "      <td>0</td>\n",
       "      <td>0</td>\n",
       "      <td>0</td>\n",
       "      <td>...</td>\n",
       "      <td>0</td>\n",
       "      <td>0</td>\n",
       "      <td>0</td>\n",
       "      <td>0</td>\n",
       "      <td>0</td>\n",
       "      <td>0</td>\n",
       "      <td>0.0</td>\n",
       "      <td>0.0</td>\n",
       "      <td>0.0</td>\n",
       "      <td>875000</td>\n",
       "    </tr>\n",
       "    <tr>\n",
       "      <th>4</th>\n",
       "      <td>allenne01</td>\n",
       "      <td>1985</td>\n",
       "      <td>1</td>\n",
       "      <td>SLN</td>\n",
       "      <td>NL</td>\n",
       "      <td>23</td>\n",
       "      <td>2</td>\n",
       "      <td>0</td>\n",
       "      <td>0</td>\n",
       "      <td>0</td>\n",
       "      <td>...</td>\n",
       "      <td>0</td>\n",
       "      <td>0</td>\n",
       "      <td>0</td>\n",
       "      <td>0</td>\n",
       "      <td>0</td>\n",
       "      <td>0</td>\n",
       "      <td>0.0</td>\n",
       "      <td>0.0</td>\n",
       "      <td>0.0</td>\n",
       "      <td>750000</td>\n",
       "    </tr>\n",
       "  </tbody>\n",
       "</table>\n",
       "<p>5 rows × 40 columns</p>\n",
       "</div>"
      ],
      "text/plain": [
       "    playerID  yearID  stint teamID lgID   G   AB   R   H  2B  ...  G_3b  G_ss  \\\n",
       "0  ackerji01    1985      1    TOR   AL  61    0   0   0   0  ...     0     0   \n",
       "1  agostju01    1985      1    CHA   AL  54    0   0   0   0  ...     0     0   \n",
       "2  aguaylu01    1985      1    PHI   NL  91  165  27  46   7  ...     7    60   \n",
       "3  alexado01    1985      1    TOR   AL  36    0   0   0   0  ...     0     0   \n",
       "4  allenne01    1985      1    SLN   NL  23    2   0   0   0  ...     0     0   \n",
       "\n",
       "   G_lf  G_cf  G_rf  G_of  G_dh  G_ph  G_pr  salary  \n",
       "0     0     0     0     0   0.0   0.0   0.0  170000  \n",
       "1     0     0     0     0   0.0   0.0   0.0  147500  \n",
       "2     0     0     0     0   0.0  11.0   9.0  237000  \n",
       "3     0     0     0     0   0.0   0.0   0.0  875000  \n",
       "4     0     0     0     0   0.0   0.0   0.0  750000  \n",
       "\n",
       "[5 rows x 40 columns]"
      ]
     },
     "execution_count": 4,
     "metadata": {},
     "output_type": "execute_result"
    }
   ],
   "source": [
    "baseball = baseball.merge(right = salaries, on=[\"yearID\", \"playerID\", \"teamID\", \"lgID\"])\n",
    "baseball.head()"
   ]
  },
  {
   "cell_type": "markdown",
   "metadata": {},
   "source": [
    "#### The following line keeps only the data of players from 2007 on (which goes to 2016 for the fully merged data).  We decided to look at 10 years of data.  The reason we didn't do more years than that is because of inflation and thus the increasing salaries throughout the years.  This could play a small factor even in these 10 years as contracts continue to increase, but we figured that the effect is small enough for the scope of this project."
   ]
  },
  {
   "cell_type": "code",
   "execution_count": 5,
   "metadata": {
    "scrolled": true
   },
   "outputs": [
    {
     "data": {
      "text/html": [
       "<div>\n",
       "<style scoped>\n",
       "    .dataframe tbody tr th:only-of-type {\n",
       "        vertical-align: middle;\n",
       "    }\n",
       "\n",
       "    .dataframe tbody tr th {\n",
       "        vertical-align: top;\n",
       "    }\n",
       "\n",
       "    .dataframe thead th {\n",
       "        text-align: right;\n",
       "    }\n",
       "</style>\n",
       "<table border=\"1\" class=\"dataframe\">\n",
       "  <thead>\n",
       "    <tr style=\"text-align: right;\">\n",
       "      <th></th>\n",
       "      <th>playerID</th>\n",
       "      <th>yearID</th>\n",
       "      <th>stint</th>\n",
       "      <th>teamID</th>\n",
       "      <th>lgID</th>\n",
       "      <th>G</th>\n",
       "      <th>AB</th>\n",
       "      <th>R</th>\n",
       "      <th>H</th>\n",
       "      <th>2B</th>\n",
       "      <th>...</th>\n",
       "      <th>G_3b</th>\n",
       "      <th>G_ss</th>\n",
       "      <th>G_lf</th>\n",
       "      <th>G_cf</th>\n",
       "      <th>G_rf</th>\n",
       "      <th>G_of</th>\n",
       "      <th>G_dh</th>\n",
       "      <th>G_ph</th>\n",
       "      <th>G_pr</th>\n",
       "      <th>salary</th>\n",
       "    </tr>\n",
       "  </thead>\n",
       "  <tbody>\n",
       "    <tr>\n",
       "      <th>17394</th>\n",
       "      <td>aardsda01</td>\n",
       "      <td>2007</td>\n",
       "      <td>1</td>\n",
       "      <td>CHA</td>\n",
       "      <td>AL</td>\n",
       "      <td>25</td>\n",
       "      <td>0</td>\n",
       "      <td>0</td>\n",
       "      <td>0</td>\n",
       "      <td>0</td>\n",
       "      <td>...</td>\n",
       "      <td>0</td>\n",
       "      <td>0</td>\n",
       "      <td>0</td>\n",
       "      <td>0</td>\n",
       "      <td>0</td>\n",
       "      <td>0</td>\n",
       "      <td>0.0</td>\n",
       "      <td>0.0</td>\n",
       "      <td>0.0</td>\n",
       "      <td>387500</td>\n",
       "    </tr>\n",
       "    <tr>\n",
       "      <th>17395</th>\n",
       "      <td>abreubo01</td>\n",
       "      <td>2007</td>\n",
       "      <td>1</td>\n",
       "      <td>NYA</td>\n",
       "      <td>AL</td>\n",
       "      <td>158</td>\n",
       "      <td>605</td>\n",
       "      <td>123</td>\n",
       "      <td>171</td>\n",
       "      <td>40</td>\n",
       "      <td>...</td>\n",
       "      <td>0</td>\n",
       "      <td>0</td>\n",
       "      <td>0</td>\n",
       "      <td>0</td>\n",
       "      <td>157</td>\n",
       "      <td>157</td>\n",
       "      <td>1.0</td>\n",
       "      <td>4.0</td>\n",
       "      <td>1.0</td>\n",
       "      <td>15000000</td>\n",
       "    </tr>\n",
       "    <tr>\n",
       "      <th>17396</th>\n",
       "      <td>accarje01</td>\n",
       "      <td>2007</td>\n",
       "      <td>1</td>\n",
       "      <td>TOR</td>\n",
       "      <td>AL</td>\n",
       "      <td>64</td>\n",
       "      <td>0</td>\n",
       "      <td>0</td>\n",
       "      <td>0</td>\n",
       "      <td>0</td>\n",
       "      <td>...</td>\n",
       "      <td>0</td>\n",
       "      <td>0</td>\n",
       "      <td>0</td>\n",
       "      <td>0</td>\n",
       "      <td>0</td>\n",
       "      <td>0</td>\n",
       "      <td>0.0</td>\n",
       "      <td>0.0</td>\n",
       "      <td>0.0</td>\n",
       "      <td>392200</td>\n",
       "    </tr>\n",
       "    <tr>\n",
       "      <th>17397</th>\n",
       "      <td>affelje01</td>\n",
       "      <td>2007</td>\n",
       "      <td>1</td>\n",
       "      <td>COL</td>\n",
       "      <td>NL</td>\n",
       "      <td>75</td>\n",
       "      <td>0</td>\n",
       "      <td>0</td>\n",
       "      <td>0</td>\n",
       "      <td>0</td>\n",
       "      <td>...</td>\n",
       "      <td>0</td>\n",
       "      <td>0</td>\n",
       "      <td>0</td>\n",
       "      <td>0</td>\n",
       "      <td>0</td>\n",
       "      <td>0</td>\n",
       "      <td>0.0</td>\n",
       "      <td>0.0</td>\n",
       "      <td>0.0</td>\n",
       "      <td>1250000</td>\n",
       "    </tr>\n",
       "    <tr>\n",
       "      <th>17398</th>\n",
       "      <td>alfonan01</td>\n",
       "      <td>2007</td>\n",
       "      <td>1</td>\n",
       "      <td>PHI</td>\n",
       "      <td>NL</td>\n",
       "      <td>61</td>\n",
       "      <td>1</td>\n",
       "      <td>0</td>\n",
       "      <td>0</td>\n",
       "      <td>0</td>\n",
       "      <td>...</td>\n",
       "      <td>0</td>\n",
       "      <td>0</td>\n",
       "      <td>0</td>\n",
       "      <td>0</td>\n",
       "      <td>0</td>\n",
       "      <td>0</td>\n",
       "      <td>0.0</td>\n",
       "      <td>0.0</td>\n",
       "      <td>0.0</td>\n",
       "      <td>380000</td>\n",
       "    </tr>\n",
       "  </tbody>\n",
       "</table>\n",
       "<p>5 rows × 40 columns</p>\n",
       "</div>"
      ],
      "text/plain": [
       "        playerID  yearID  stint teamID lgID    G   AB    R    H  2B  ...  \\\n",
       "17394  aardsda01    2007      1    CHA   AL   25    0    0    0   0  ...   \n",
       "17395  abreubo01    2007      1    NYA   AL  158  605  123  171  40  ...   \n",
       "17396  accarje01    2007      1    TOR   AL   64    0    0    0   0  ...   \n",
       "17397  affelje01    2007      1    COL   NL   75    0    0    0   0  ...   \n",
       "17398  alfonan01    2007      1    PHI   NL   61    1    0    0   0  ...   \n",
       "\n",
       "       G_3b  G_ss  G_lf  G_cf  G_rf  G_of  G_dh  G_ph  G_pr    salary  \n",
       "17394     0     0     0     0     0     0   0.0   0.0   0.0    387500  \n",
       "17395     0     0     0     0   157   157   1.0   4.0   1.0  15000000  \n",
       "17396     0     0     0     0     0     0   0.0   0.0   0.0    392200  \n",
       "17397     0     0     0     0     0     0   0.0   0.0   0.0   1250000  \n",
       "17398     0     0     0     0     0     0   0.0   0.0   0.0    380000  \n",
       "\n",
       "[5 rows x 40 columns]"
      ]
     },
     "execution_count": 5,
     "metadata": {},
     "output_type": "execute_result"
    }
   ],
   "source": [
    "baseball = baseball.loc[baseball.yearID > 2006]\n",
    "baseball.head()"
   ]
  },
  {
   "cell_type": "markdown",
   "metadata": {},
   "source": [
    "#### We then took out all of the pitchers.  Although pitchers hit in National League hosted games, pitchers are not paid to hit and have historically been known to for the most part be bad hitters.  So for these reasons, we take them out of our analysis."
   ]
  },
  {
   "cell_type": "code",
   "execution_count": 6,
   "metadata": {},
   "outputs": [],
   "source": [
    "baseball = baseball.loc[baseball.G_p < 2]\n",
    "#baseball.shape"
   ]
  },
  {
   "cell_type": "markdown",
   "metadata": {},
   "source": [
    "#### We then split the games played into 4 quartiles so that we could get an idea of how the games played distribution was like.  We came to the conclusion that we would keep all of the observations in which a player played at least 105 of the 162 games in the regular season.  We chose this because it allowed us to keep 50% of the data while only keeping players that played a large portion of the season.  This will also take out outliers for say a guy who batted 6 for 8 in a season (0.750 batting average) but who had a season ending injury in the first week of the season.  This will also help keep the distributions of the statistics relatively normal since each statistic (say batting average) has a lot of obersvations.  We are left with 2107 obervations which is plenty.  "
   ]
  },
  {
   "cell_type": "code",
   "execution_count": 7,
   "metadata": {
    "scrolled": true
   },
   "outputs": [
    {
     "data": {
      "text/plain": [
       "0.00      1.0\n",
       "0.25     64.0\n",
       "0.50    105.0\n",
       "0.75    140.0\n",
       "1.00    163.0\n",
       "Name: G_all, dtype: float64"
      ]
     },
     "execution_count": 7,
     "metadata": {},
     "output_type": "execute_result"
    }
   ],
   "source": [
    "baseball['G_all'].quantile([0,.25,.5,.75,1])"
   ]
  },
  {
   "cell_type": "code",
   "execution_count": 8,
   "metadata": {},
   "outputs": [
    {
     "data": {
      "text/plain": [
       "(2107, 40)"
      ]
     },
     "execution_count": 8,
     "metadata": {},
     "output_type": "execute_result"
    }
   ],
   "source": [
    "baseball = baseball.loc[baseball.G_all >= 105]\n",
    "baseball.shape"
   ]
  },
  {
   "cell_type": "markdown",
   "metadata": {},
   "source": [
    "#### We next split the remaining 2107 obervations into 4 quartiles based on salary (quartile 1 being the 25% of players with the lowest salary and quartile 4 being the 25% of players with the highest salary).  We do this so that we can compare several batting statistics across quartile groups of salaries so that we can get an idea of whether higher paid players are actually producing more at the plate than thier lower paid counterparts.  "
   ]
  },
  {
   "cell_type": "code",
   "execution_count": 9,
   "metadata": {},
   "outputs": [
    {
     "name": "stdout",
     "output_type": "stream",
     "text": [
      "(527, 40)\n",
      "(526, 40)\n",
      "(524, 40)\n",
      "(530, 40)\n"
     ]
    }
   ],
   "source": [
    "baseball['salary'].quantile([.25,.5,.75,1])\n",
    "Q1 = baseball['salary'].quantile([.25,.5,.75,1])[0.25]\n",
    "Q2 = baseball['salary'].quantile([.25,.5,.75,1])[0.5]\n",
    "Q3 = baseball['salary'].quantile([.25,.5,.75,1])[0.75]\n",
    "Q4 = baseball['salary'].quantile([.25,.5,.75,1])[1]\n",
    "\n",
    "baseball_1st = baseball.loc[baseball.salary <= Q1]\n",
    "baseball_2nd = baseball.loc[baseball.salary <= Q2].loc[baseball.salary > Q1]\n",
    "baseball_3rd = baseball.loc[baseball.salary <= Q3].loc[baseball.salary > Q2]\n",
    "baseball_4th = baseball.loc[baseball.salary > Q3 ]\n",
    "print(baseball_4th.shape)\n",
    "print(baseball_3rd.shape)\n",
    "print(baseball_2nd.shape)\n",
    "print(baseball_1st.shape)"
   ]
  },
  {
   "cell_type": "markdown",
   "metadata": {},
   "source": [
    "#### We see from the barplot below that the number of at bats for each quartile is different.  This was a problem in our minds because statistics such as homeruns would most likely be higher in quartiles that had more at bats since they had more chances to hit them.  Because of this, we decided to divide our statistics by the number of at bats so that this was no longer an issue."
   ]
  },
  {
   "cell_type": "code",
   "execution_count": 10,
   "metadata": {
    "scrolled": true
   },
   "outputs": [
    {
     "data": {
      "image/png": "[encoded data removed]",
      "text/plain": [
       "<Figure size 432x288 with 1 Axes>"
      ]
     },
     "metadata": {
      "needs_background": "light"
     },
     "output_type": "display_data"
    }
   ],
   "source": [
    "objects = ('First Quartile', 'Second Quartile', 'Third Quartile', 'Fourth Quartile')\n",
    "y_pos = np.arange(len(objects))\n",
    "performance = [baseball_1st.AB.mean(),baseball_2nd.AB.mean(),baseball_3rd.AB.mean(),baseball_4th.AB.mean()]\n",
    "\n",
    "plt.bar(y_pos, performance, align='center', alpha=0.5)\n",
    "plt.xticks(y_pos, objects)\n",
    "plt.ylabel('Average At Bats per Player')\n",
    "plt.title('At Bats per Salary Quartile')\n",
    "\n",
    "plt.show()"
   ]
  },
  {
   "cell_type": "markdown",
   "metadata": {},
   "source": [
    "#### As discussed above we divided the batting statistics that we liked by number of at bats so that one quartile didn't have more or less opportunities than another.  The new per at bat variables are constructed below."
   ]
  },
  {
   "cell_type": "code",
   "execution_count": 11,
   "metadata": {},
   "outputs": [],
   "source": [
    "baseball[\"BA\"] = baseball.H/baseball.AB\n",
    "baseball[\"HRAB\"] = baseball.HR/baseball.AB\n",
    "baseball[\"TRAB\"] = baseball[\"3B\"]/baseball.AB\n",
    "baseball[\"DOAB\"] = baseball[\"2B\"]/baseball.AB\n",
    "baseball[\"RBIAB\"] = baseball.RBI/baseball.AB\n",
    "baseball[\"BBAB\"] = baseball.BB/baseball.AB\n",
    "baseball[\"SOAB\"] = baseball.SO/baseball.AB\n",
    "baseball = baseball.reset_index(drop=True)\n",
    "quart = []\n",
    "for i in range(0,len(baseball.salary)):\n",
    "    if baseball.salary[i] <= Q1:\n",
    "        quart.append(1)\n",
    "    elif baseball.salary[i] <= Q2:\n",
    "        quart.append(2)\n",
    "    elif baseball.salary[i] <= Q3:\n",
    "        quart.append(3)\n",
    "    else:\n",
    "        quart.append(4)\n",
    "baseball[\"quartile\"] = quart\n",
    "baseball123 = baseball.loc[baseball.quartile <4]\n",
    "baseball12 = baseball.loc[baseball.quartile <3]\n",
    "baseball.head()\n",
    "\n",
    "baseball_1st = baseball.loc[baseball.salary <= Q1]\n",
    "baseball_2nd = baseball.loc[baseball.salary <= Q2].loc[baseball.salary > Q1]\n",
    "baseball_3rd = baseball.loc[baseball.salary <= Q3].loc[baseball.salary > Q2]\n",
    "baseball_4th = baseball.loc[baseball.salary > Q3 ]\n"
   ]
  },
  {
   "cell_type": "markdown",
   "metadata": {},
   "source": [
    "#### Below are the histogram distributions for our variables that we are going to use.  They all appear approximately normal except for triples.  We will thus use averages for all statistics except use the median for triples.  There are no visibly alarming outliers in the data which is what we expected since we took players that played at least 105 games."
   ]
  },
  {
   "cell_type": "code",
   "execution_count": 12,
   "metadata": {
    "scrolled": false
   },
   "outputs": [
    {
     "data": {
      "image/png": "[encoded data removed]",
      "text/plain": [
       "<Figure size 432x288 with 1 Axes>"
      ]
     },
     "metadata": {
      "needs_background": "light"
     },
     "output_type": "display_data"
    }
   ],
   "source": [
    "num_bins = 30\n",
    "n, bins, patches = plt.hist(baseball.BA, num_bins, facecolor='blue', alpha=0.5)\n",
    "plt.ylabel('Frequency')\n",
    "plt.title('Batting Average')\n",
    "plt.show()"
   ]
  },
  {
   "cell_type": "code",
   "execution_count": 13,
   "metadata": {},
   "outputs": [
    {
     "data": {
      "image/png": "[encoded data removed]",
      "text/plain": [
       "<Figure size 432x288 with 1 Axes>"
      ]
     },
     "metadata": {
      "needs_background": "light"
     },
     "output_type": "display_data"
    }
   ],
   "source": [
    "num_bins = 30\n",
    "n, bins, patches = plt.hist(baseball.HRAB, num_bins, facecolor='blue', alpha=0.5)\n",
    "plt.ylabel('Frequency')\n",
    "plt.title('Homeruns per At Bat')\n",
    "plt.show()"
   ]
  },
  {
   "cell_type": "code",
   "execution_count": 14,
   "metadata": {},
   "outputs": [
    {
     "data": {
      "image/png": "[encoded data removed]",
      "text/plain": [
       "<Figure size 432x288 with 1 Axes>"
      ]
     },
     "metadata": {
      "needs_background": "light"
     },
     "output_type": "display_data"
    }
   ],
   "source": [
    "num_bins = 30\n",
    "n, bins, patches = plt.hist(baseball.TRAB, num_bins, facecolor='blue', alpha=0.5)\n",
    "plt.ylabel('Frequency')\n",
    "plt.title('Triples Per at Bat')\n",
    "plt.show()"
   ]
  },
  {
   "cell_type": "code",
   "execution_count": 15,
   "metadata": {},
   "outputs": [
    {
     "data": {
      "image/png": "[encoded data removed]",
      "text/plain": [
       "<Figure size 432x288 with 1 Axes>"
      ]
     },
     "metadata": {
      "needs_background": "light"
     },
     "output_type": "display_data"
    }
   ],
   "source": [
    "num_bins = 30\n",
    "n, bins, patches = plt.hist(baseball.DOAB, num_bins, facecolor='blue', alpha=0.5)\n",
    "plt.ylabel('Frequency')\n",
    "plt.title('Doubles Per at Bat')\n",
    "plt.show()"
   ]
  },
  {
   "cell_type": "code",
   "execution_count": 16,
   "metadata": {},
   "outputs": [
    {
     "data": {
      "image/png": "[encoded data removed]",
      "text/plain": [
       "<Figure size 432x288 with 1 Axes>"
      ]
     },
     "metadata": {
      "needs_background": "light"
     },
     "output_type": "display_data"
    }
   ],
   "source": [
    "num_bins = 30\n",
    "n, bins, patches = plt.hist(baseball.RBIAB, num_bins, facecolor='blue', alpha=0.5)\n",
    "plt.ylabel('Frequency')\n",
    "plt.title('RBI Per at Bat')\n",
    "plt.show()"
   ]
  },
  {
   "cell_type": "code",
   "execution_count": 17,
   "metadata": {},
   "outputs": [
    {
     "data": {
      "image/png": "[encoded data removed]",
      "text/plain": [
       "<Figure size 432x288 with 1 Axes>"
      ]
     },
     "metadata": {
      "needs_background": "light"
     },
     "output_type": "display_data"
    }
   ],
   "source": [
    "num_bins = 30\n",
    "n, bins, patches = plt.hist(baseball.BBAB, num_bins, facecolor='blue', alpha=0.5)\n",
    "plt.ylabel('Frequency')\n",
    "plt.title('Walks Per at Bat')\n",
    "plt.show()"
   ]
  },
  {
   "cell_type": "code",
   "execution_count": 18,
   "metadata": {},
   "outputs": [
    {
     "data": {
      "image/png": "[encoded data removed]",
      "text/plain": [
       "<Figure size 432x288 with 1 Axes>"
      ]
     },
     "metadata": {
      "needs_background": "light"
     },
     "output_type": "display_data"
    }
   ],
   "source": [
    "num_bins = 30\n",
    "n, bins, patches = plt.hist(baseball.SOAB, num_bins, facecolor='blue', alpha=0.5)\n",
    "plt.ylabel('Frequency')\n",
    "plt.title('Strikeouts Per at Bat')\n",
    "plt.show()"
   ]
  },
  {
   "cell_type": "code",
   "execution_count": 19,
   "metadata": {},
   "outputs": [
    {
     "data": {
      "text/plain": [
       "(2107, 48)"
      ]
     },
     "execution_count": 19,
     "metadata": {},
     "output_type": "execute_result"
    }
   ],
   "source": [
    "baseball.shape"
   ]
  },
  {
   "cell_type": "markdown",
   "metadata": {},
   "source": [
    "#### The fact that the following two plots of both the average homeruns per quartile and median homeruns per quartile are similar in shape is on par with our expectation that the distribution of these statistics will be approximately normal since each statistic comprises of a player playing in at least 105 games."
   ]
  },
  {
   "cell_type": "code",
   "execution_count": 20,
   "metadata": {},
   "outputs": [
    {
     "data": {
      "image/png": "[encoded data removed]",
      "text/plain": [
       "<Figure size 432x288 with 1 Axes>"
      ]
     },
     "metadata": {
      "needs_background": "light"
     },
     "output_type": "display_data"
    }
   ],
   "source": [
    "objects = ('First Quartile', 'Second Quartile', 'Third Quartile', 'Fourth Quartile')\n",
    "y_pos = np.arange(len(objects))\n",
    "performance = [baseball_1st.HR.mean(),baseball_2nd.HR.mean(),baseball_3rd.HR.mean(),baseball_4th.HR.mean()]\n",
    "\n",
    "plt.bar(y_pos, performance, align='center', alpha=0.5)\n",
    "plt.xticks(y_pos, objects)\n",
    "plt.ylabel('Average Homeruns per Player')\n",
    "plt.title('Homerun Average per Salary Quartile')\n",
    "\n",
    "plt.show()\n"
   ]
  },
  {
   "cell_type": "code",
   "execution_count": 21,
   "metadata": {},
   "outputs": [
    {
     "data": {
      "text/html": [
       "<div>\n",
       "<style scoped>\n",
       "    .dataframe tbody tr th:only-of-type {\n",
       "        vertical-align: middle;\n",
       "    }\n",
       "\n",
       "    .dataframe tbody tr th {\n",
       "        vertical-align: top;\n",
       "    }\n",
       "\n",
       "    .dataframe thead th {\n",
       "        text-align: right;\n",
       "    }\n",
       "</style>\n",
       "<table border=\"1\" class=\"dataframe\">\n",
       "  <thead>\n",
       "    <tr style=\"text-align: right;\">\n",
       "      <th></th>\n",
       "      <th>Quartile</th>\n",
       "      <th>Homerun Average per Player</th>\n",
       "    </tr>\n",
       "  </thead>\n",
       "  <tbody>\n",
       "    <tr>\n",
       "      <th>0</th>\n",
       "      <td>1</td>\n",
       "      <td>13.194340</td>\n",
       "    </tr>\n",
       "    <tr>\n",
       "      <th>1</th>\n",
       "      <td>2</td>\n",
       "      <td>13.185115</td>\n",
       "    </tr>\n",
       "    <tr>\n",
       "      <th>2</th>\n",
       "      <td>3</td>\n",
       "      <td>16.385932</td>\n",
       "    </tr>\n",
       "    <tr>\n",
       "      <th>3</th>\n",
       "      <td>4</td>\n",
       "      <td>20.865275</td>\n",
       "    </tr>\n",
       "  </tbody>\n",
       "</table>\n",
       "</div>"
      ],
      "text/plain": [
       "   Quartile  Homerun Average per Player\n",
       "0         1                   13.194340\n",
       "1         2                   13.185115\n",
       "2         3                   16.385932\n",
       "3         4                   20.865275"
      ]
     },
     "execution_count": 21,
     "metadata": {},
     "output_type": "execute_result"
    }
   ],
   "source": [
    "d= {'Homerun Average per Player' : [baseball_1st.HR.mean(),baseball_2nd.HR.mean(),baseball_3rd.HR.mean(),baseball_4th.HR.mean()], 'Quartile':[1,2,3,4]}\n",
    "df2 =pd.DataFrame(d, columns=['Quartile', 'Homerun Average per Player'])\n",
    "df2  "
   ]
  },
  {
   "cell_type": "code",
   "execution_count": 22,
   "metadata": {},
   "outputs": [
    {
     "data": {
      "image/png": "[encoded data removed]",
      "text/plain": [
       "<Figure size 432x288 with 1 Axes>"
      ]
     },
     "metadata": {
      "needs_background": "light"
     },
     "output_type": "display_data"
    }
   ],
   "source": [
    "objects = ('First Quartile', 'Second Quartile', 'Third Quartile', 'Fourth Quartile')\n",
    "y_pos = np.arange(len(objects))\n",
    "performance = [baseball_1st.HR.median (),baseball_2nd.HR.median(),baseball_3rd.HR.median(),baseball_4th.HR.median()]\n",
    "\n",
    "plt.bar(y_pos, performance, align='center', alpha=0.5)\n",
    "plt.xticks(y_pos, objects)\n",
    "plt.ylabel('Median Homeruns per Quartile')\n",
    "plt.title('Homerun Median per Quartile')\n",
    "\n",
    "plt.show()"
   ]
  },
  {
   "cell_type": "code",
   "execution_count": 23,
   "metadata": {},
   "outputs": [
    {
     "data": {
      "text/html": [
       "<div>\n",
       "<style scoped>\n",
       "    .dataframe tbody tr th:only-of-type {\n",
       "        vertical-align: middle;\n",
       "    }\n",
       "\n",
       "    .dataframe tbody tr th {\n",
       "        vertical-align: top;\n",
       "    }\n",
       "\n",
       "    .dataframe thead th {\n",
       "        text-align: right;\n",
       "    }\n",
       "</style>\n",
       "<table border=\"1\" class=\"dataframe\">\n",
       "  <thead>\n",
       "    <tr style=\"text-align: right;\">\n",
       "      <th></th>\n",
       "      <th>Quartile</th>\n",
       "      <th>Homerun Median per Player</th>\n",
       "    </tr>\n",
       "  </thead>\n",
       "  <tbody>\n",
       "    <tr>\n",
       "      <th>0</th>\n",
       "      <td>1</td>\n",
       "      <td>12.0</td>\n",
       "    </tr>\n",
       "    <tr>\n",
       "      <th>1</th>\n",
       "      <td>2</td>\n",
       "      <td>12.0</td>\n",
       "    </tr>\n",
       "    <tr>\n",
       "      <th>2</th>\n",
       "      <td>3</td>\n",
       "      <td>15.0</td>\n",
       "    </tr>\n",
       "    <tr>\n",
       "      <th>3</th>\n",
       "      <td>4</td>\n",
       "      <td>20.0</td>\n",
       "    </tr>\n",
       "  </tbody>\n",
       "</table>\n",
       "</div>"
      ],
      "text/plain": [
       "   Quartile  Homerun Median per Player\n",
       "0         1                       12.0\n",
       "1         2                       12.0\n",
       "2         3                       15.0\n",
       "3         4                       20.0"
      ]
     },
     "execution_count": 23,
     "metadata": {},
     "output_type": "execute_result"
    }
   ],
   "source": [
    "d= {'Homerun Median per Player' : [baseball_1st.HR.median(),baseball_2nd.HR.median(),baseball_3rd.HR.median(),baseball_4th.HR.median()], 'Quartile':[1,2,3,4]}\n",
    "df2 =pd.DataFrame(d, columns=['Quartile', 'Homerun Median per Player'])\n",
    "df2  "
   ]
  },
  {
   "cell_type": "markdown",
   "metadata": {},
   "source": [
    "#### The following is a table that confirms the disparity in number of bats for different salary quartiles of players."
   ]
  },
  {
   "cell_type": "code",
   "execution_count": 24,
   "metadata": {},
   "outputs": [
    {
     "data": {
      "text/html": [
       "<div>\n",
       "<style scoped>\n",
       "    .dataframe tbody tr th:only-of-type {\n",
       "        vertical-align: middle;\n",
       "    }\n",
       "\n",
       "    .dataframe tbody tr th {\n",
       "        vertical-align: top;\n",
       "    }\n",
       "\n",
       "    .dataframe thead th {\n",
       "        text-align: right;\n",
       "    }\n",
       "</style>\n",
       "<table border=\"1\" class=\"dataframe\">\n",
       "  <thead>\n",
       "    <tr style=\"text-align: right;\">\n",
       "      <th></th>\n",
       "      <th>Quartile</th>\n",
       "      <th>Average At Bats per Player</th>\n",
       "    </tr>\n",
       "  </thead>\n",
       "  <tbody>\n",
       "    <tr>\n",
       "      <th>0</th>\n",
       "      <td>1</td>\n",
       "      <td>455.371698</td>\n",
       "    </tr>\n",
       "    <tr>\n",
       "      <th>1</th>\n",
       "      <td>2</td>\n",
       "      <td>444.038168</td>\n",
       "    </tr>\n",
       "    <tr>\n",
       "      <th>2</th>\n",
       "      <td>3</td>\n",
       "      <td>500.969582</td>\n",
       "    </tr>\n",
       "    <tr>\n",
       "      <th>3</th>\n",
       "      <td>4</td>\n",
       "      <td>525.009488</td>\n",
       "    </tr>\n",
       "  </tbody>\n",
       "</table>\n",
       "</div>"
      ],
      "text/plain": [
       "   Quartile  Average At Bats per Player\n",
       "0         1                  455.371698\n",
       "1         2                  444.038168\n",
       "2         3                  500.969582\n",
       "3         4                  525.009488"
      ]
     },
     "execution_count": 24,
     "metadata": {},
     "output_type": "execute_result"
    }
   ],
   "source": [
    "d= {'Average At Bats per Player' : [baseball_1st.AB.mean(),baseball_2nd.AB.mean(),baseball_3rd.AB.mean(),baseball_4th.AB.mean()], 'Quartile':[1,2,3,4]}\n",
    "df2 =pd.DataFrame(d, columns=['Quartile', 'Average At Bats per Player'])\n",
    "df2  "
   ]
  },
  {
   "cell_type": "markdown",
   "metadata": {},
   "source": [
    "#### Below we have the mean batting average for players in each salary quartile.  There doesn't appear to be a huge disparity except it appears that the 4th quartile players are hitting noticeably higher.  The 2nd quartile has the lowest batting average of all of the groups.  We explore further."
   ]
  },
  {
   "cell_type": "code",
   "execution_count": 25,
   "metadata": {},
   "outputs": [
    {
     "data": {
      "image/png": "[encoded data removed]",
      "text/plain": [
       "<Figure size 432x288 with 1 Axes>"
      ]
     },
     "metadata": {
      "needs_background": "light"
     },
     "output_type": "display_data"
    }
   ],
   "source": [
    "objects = ('First Quartile', 'Second Quartile', 'Third Quartile', 'Fourth Quartile')\n",
    "y_pos = np.arange(len(objects))\n",
    "performance = [baseball_1st.BA.mean(),baseball_2nd.BA.mean(),baseball_3rd.BA.mean(),baseball_4th.BA.mean()]\n",
    "\n",
    "plt.bar(y_pos, performance, align='center', alpha=0.5)\n",
    "plt.xticks(y_pos, objects)\n",
    "plt.ylabel('Mean Batting Average per Player')\n",
    "plt.title('Batting Average per Salary Quartile')\n",
    "\n",
    "plt.show()"
   ]
  },
  {
   "cell_type": "code",
   "execution_count": 26,
   "metadata": {
    "scrolled": false
   },
   "outputs": [
    {
     "data": {
      "text/html": [
       "<div>\n",
       "<style scoped>\n",
       "    .dataframe tbody tr th:only-of-type {\n",
       "        vertical-align: middle;\n",
       "    }\n",
       "\n",
       "    .dataframe tbody tr th {\n",
       "        vertical-align: top;\n",
       "    }\n",
       "\n",
       "    .dataframe thead th {\n",
       "        text-align: right;\n",
       "    }\n",
       "</style>\n",
       "<table border=\"1\" class=\"dataframe\">\n",
       "  <thead>\n",
       "    <tr style=\"text-align: right;\">\n",
       "      <th></th>\n",
       "      <th>Quartile</th>\n",
       "      <th>Mean Batting Average per Player</th>\n",
       "    </tr>\n",
       "  </thead>\n",
       "  <tbody>\n",
       "    <tr>\n",
       "      <th>0</th>\n",
       "      <td>1</td>\n",
       "      <td>0.265020</td>\n",
       "    </tr>\n",
       "    <tr>\n",
       "      <th>1</th>\n",
       "      <td>2</td>\n",
       "      <td>0.262409</td>\n",
       "    </tr>\n",
       "    <tr>\n",
       "      <th>2</th>\n",
       "      <td>3</td>\n",
       "      <td>0.268680</td>\n",
       "    </tr>\n",
       "    <tr>\n",
       "      <th>3</th>\n",
       "      <td>4</td>\n",
       "      <td>0.275287</td>\n",
       "    </tr>\n",
       "  </tbody>\n",
       "</table>\n",
       "</div>"
      ],
      "text/plain": [
       "   Quartile  Mean Batting Average per Player\n",
       "0         1                         0.265020\n",
       "1         2                         0.262409\n",
       "2         3                         0.268680\n",
       "3         4                         0.275287"
      ]
     },
     "execution_count": 26,
     "metadata": {},
     "output_type": "execute_result"
    }
   ],
   "source": [
    "d= {'Mean Batting Average per Player' : [baseball_1st.BA.mean(),baseball_2nd.BA.mean(),baseball_3rd.BA.mean(),baseball_4th.BA.mean()], 'Quartile':[1,2,3,4]}\n",
    "df2 =pd.DataFrame(d, columns=['Quartile', 'Mean Batting Average per Player'])\n",
    "df2                 "
   ]
  },
  {
   "cell_type": "markdown",
   "metadata": {},
   "source": [
    "#### We run an ANOVA test to see if the means of the 4 quartiles are the same.  The low p value shows that there is statistical significance to believe that the means aren't all the same.  This is isn't suprising given the 4th quartile having a noticeably higher batting average than the other 3 quartiles.  This shows that on average the guys getting the big bucks are producing at the plate from a batting average standpoint at a higher level than their lower paid teammates.  "
   ]
  },
  {
   "cell_type": "code",
   "execution_count": 27,
   "metadata": {
    "scrolled": true
   },
   "outputs": [
    {
     "name": "stdout",
     "output_type": "stream",
     "text": [
      "            sum_sq      df          F        PR(>F)\n",
      "quartile  0.036162     1.0  42.776853  7.678736e-11\n",
      "Residual  1.779510  2105.0        NaN           NaN\n"
     ]
    }
   ],
   "source": [
    "model = ols('BA ~ quartile', data = baseball).fit()\n",
    "aov = sm.stats.anova_lm(model, typ=2)\n",
    "print(aov)"
   ]
  },
  {
   "cell_type": "markdown",
   "metadata": {},
   "source": [
    "#### We run another ANOVA comparing just the first 3 quartile means and while the p value is still significant at the 0.05 alpha level, it is much higher than the test comparing all 4 quartile means.  This may be a beginning sign that quartile 3 players aren't all that much more valuable than quartile 1 and 2 players at the plate for batting average purposes (one of the most important if not the most important statistic in hitting in baseball). "
   ]
  },
  {
   "cell_type": "code",
   "execution_count": 28,
   "metadata": {},
   "outputs": [
    {
     "name": "stdout",
     "output_type": "stream",
     "text": [
      "            sum_sq      df         F    PR(>F)\n",
      "quartile  0.003515     1.0  4.413735  0.035809\n",
      "Residual  1.256718  1578.0       NaN       NaN\n"
     ]
    }
   ],
   "source": [
    "model = ols('BA ~ quartile', data = baseball123).fit()\n",
    "aov = sm.stats.anova_lm(model, typ=2)\n",
    "print(aov) "
   ]
  },
  {
   "cell_type": "markdown",
   "metadata": {},
   "source": [
    "#### A test between just the 1st and 2nd quartile show that there is not statistically significant evidence to believe the batting average means of 1st and 2nd quartile salary players is different."
   ]
  },
  {
   "cell_type": "code",
   "execution_count": 29,
   "metadata": {},
   "outputs": [
    {
     "name": "stdout",
     "output_type": "stream",
     "text": [
      "            sum_sq      df        F    PR(>F)\n",
      "quartile  0.001796     1.0  2.27715  0.131593\n",
      "Residual  0.829789  1052.0      NaN       NaN\n"
     ]
    }
   ],
   "source": [
    "model = ols('BA ~ quartile', data = baseball12).fit()\n",
    "aov = sm.stats.anova_lm(model, typ=2)\n",
    "print(aov) "
   ]
  },
  {
   "cell_type": "markdown",
   "metadata": {},
   "source": [
    "#### Homeruns have always been an extremely important statistic in baseball, especially in the recent age of advanced analytics in baseball.  A lot of baseball analysts today agree that a guy that hits a significant amount of homeruns but a lower batting average is more valuable to a team than a guy with a better batting average but less homeruns.  These statistics are on par with this recent trend.  The 4th quartile players are hitting a significant amount of homeruns per at bat than the lower quartiles and the 3rd quartile is clearly behind them over the 1st and 2nd quartile salary guys.  The ANOVA tests reflect this but we once again see that there isn't a significant difference between the 1st and 2nd quartile salary players."
   ]
  },
  {
   "cell_type": "code",
   "execution_count": 30,
   "metadata": {},
   "outputs": [
    {
     "data": {
      "image/png": "[encoded data removed]",
      "text/plain": [
       "<Figure size 432x288 with 1 Axes>"
      ]
     },
     "metadata": {
      "needs_background": "light"
     },
     "output_type": "display_data"
    }
   ],
   "source": [
    "objects = ('First Quartile', 'Second Quartile', 'Third Quartile', 'Fourth Quartile')\n",
    "y_pos = np.arange(len(objects))\n",
    "performance = [baseball_1st.HRAB.mean(),baseball_2nd.HRAB.mean(),baseball_3rd.HRAB.mean(),baseball_4th.HRAB.mean()]\n",
    "\n",
    "plt.bar(y_pos, performance, align='center', alpha=0.5)\n",
    "plt.xticks(y_pos, objects)\n",
    "plt.ylabel('Mean Homeruns per at bat per Player')\n",
    "plt.title('Homeruns per at bat per Quartile')\n",
    "\n",
    "plt.show()"
   ]
  },
  {
   "cell_type": "code",
   "execution_count": 31,
   "metadata": {},
   "outputs": [
    {
     "data": {
      "text/html": [
       "<div>\n",
       "<style scoped>\n",
       "    .dataframe tbody tr th:only-of-type {\n",
       "        vertical-align: middle;\n",
       "    }\n",
       "\n",
       "    .dataframe tbody tr th {\n",
       "        vertical-align: top;\n",
       "    }\n",
       "\n",
       "    .dataframe thead th {\n",
       "        text-align: right;\n",
       "    }\n",
       "</style>\n",
       "<table border=\"1\" class=\"dataframe\">\n",
       "  <thead>\n",
       "    <tr style=\"text-align: right;\">\n",
       "      <th></th>\n",
       "      <th>Quartile</th>\n",
       "      <th>Homeruns per At Bat per Player</th>\n",
       "    </tr>\n",
       "  </thead>\n",
       "  <tbody>\n",
       "    <tr>\n",
       "      <th>0</th>\n",
       "      <td>1</td>\n",
       "      <td>0.028322</td>\n",
       "    </tr>\n",
       "    <tr>\n",
       "      <th>1</th>\n",
       "      <td>2</td>\n",
       "      <td>0.028635</td>\n",
       "    </tr>\n",
       "    <tr>\n",
       "      <th>2</th>\n",
       "      <td>3</td>\n",
       "      <td>0.032398</td>\n",
       "    </tr>\n",
       "    <tr>\n",
       "      <th>3</th>\n",
       "      <td>4</td>\n",
       "      <td>0.039805</td>\n",
       "    </tr>\n",
       "  </tbody>\n",
       "</table>\n",
       "</div>"
      ],
      "text/plain": [
       "   Quartile  Homeruns per At Bat per Player\n",
       "0         1                        0.028322\n",
       "1         2                        0.028635\n",
       "2         3                        0.032398\n",
       "3         4                        0.039805"
      ]
     },
     "execution_count": 31,
     "metadata": {},
     "output_type": "execute_result"
    }
   ],
   "source": [
    "d= {'Homeruns per At Bat per Player' : [baseball_1st.HRAB.mean(),baseball_2nd.HRAB.mean(),baseball_3rd.HRAB.mean(),baseball_4th.HRAB.mean()], 'Quartile':[1,2,3,4]}\n",
    "df2 =pd.DataFrame(d, columns=['Quartile', 'Homeruns per At Bat per Player'])\n",
    "df2    "
   ]
  },
  {
   "cell_type": "code",
   "execution_count": 32,
   "metadata": {},
   "outputs": [
    {
     "name": "stdout",
     "output_type": "stream",
     "text": [
      "                 sum_sq      df          F        PR(>F)\n",
      "quartile   18108.403103     1.0  200.28204  1.676558e-43\n",
      "Residual  190322.549910  2105.0        NaN           NaN\n"
     ]
    }
   ],
   "source": [
    "model = ols('HR ~ quartile', data = baseball).fit()\n",
    "aov = sm.stats.anova_lm(model, typ=2)\n",
    "print(aov)"
   ]
  },
  {
   "cell_type": "code",
   "execution_count": 33,
   "metadata": {},
   "outputs": [
    {
     "name": "stdout",
     "output_type": "stream",
     "text": [
      "                 sum_sq      df          F        PR(>F)\n",
      "quartile    2682.355391     1.0  31.495865  2.356855e-08\n",
      "Residual  134390.871825  1578.0        NaN           NaN\n"
     ]
    }
   ],
   "source": [
    "model = ols('HR ~ quartile', data = baseball123).fit()\n",
    "aov = sm.stats.anova_lm(model, typ=2)\n",
    "print(aov) "
   ]
  },
  {
   "cell_type": "code",
   "execution_count": 34,
   "metadata": {},
   "outputs": [
    {
     "name": "stdout",
     "output_type": "stream",
     "text": [
      "                sum_sq      df         F    PR(>F)\n",
      "quartile      0.022424     1.0  0.000269  0.986918\n",
      "Residual  87708.026912  1052.0       NaN       NaN\n"
     ]
    }
   ],
   "source": [
    "model = ols('HR ~ quartile', data = baseball12).fit()\n",
    "aov = sm.stats.anova_lm(model, typ=2)\n",
    "print(aov) "
   ]
  },
  {
   "cell_type": "markdown",
   "metadata": {},
   "source": [
    "#### The triples has an interesting trend.  Triples are not a large part of the game just in the sense that they are relatively rare.  It is interesting to see that the number of triples per at bat though is highest from the quartile 1 salary players and decreases with each quartile all the way down to quartile 4.  We hypothesize that the quartile 1 players likely have the most triples because they are probably on their rookie contract and are very young and quick enough to fly around the bases and get a triple more so than the older players in later contracts.  The ANOVA tests for all, the lower 3, and the lowest 2 quartiles all have significant p values.  "
   ]
  },
  {
   "cell_type": "code",
   "execution_count": 35,
   "metadata": {
    "scrolled": true
   },
   "outputs": [
    {
     "data": {
      "image/png": "[encoded data removed]",
      "text/plain": [
       "<Figure size 432x288 with 1 Axes>"
      ]
     },
     "metadata": {
      "needs_background": "light"
     },
     "output_type": "display_data"
    }
   ],
   "source": [
    "objects = ('First Quartile', 'Second Quartile', 'Third Quartile', 'Fourth Quartile')\n",
    "y_pos = np.arange(len(objects))\n",
    "performance = [baseball_1st.TRAB.median(),baseball_2nd.TRAB.median(),baseball_3rd.TRAB.median(),baseball_4th.TRAB.median()]\n",
    "\n",
    "plt.bar(y_pos, performance, align='center', alpha=0.5)\n",
    "plt.xticks(y_pos, objects)\n",
    "plt.ylabel('Median Triples per at bat per Player')\n",
    "plt.title('Triples per at bat per Quartile')\n",
    "\n",
    "plt.show()\n",
    "\n",
    "\n"
   ]
  },
  {
   "cell_type": "code",
   "execution_count": 36,
   "metadata": {},
   "outputs": [
    {
     "data": {
      "text/html": [
       "<div>\n",
       "<style scoped>\n",
       "    .dataframe tbody tr th:only-of-type {\n",
       "        vertical-align: middle;\n",
       "    }\n",
       "\n",
       "    .dataframe tbody tr th {\n",
       "        vertical-align: top;\n",
       "    }\n",
       "\n",
       "    .dataframe thead th {\n",
       "        text-align: right;\n",
       "    }\n",
       "</style>\n",
       "<table border=\"1\" class=\"dataframe\">\n",
       "  <thead>\n",
       "    <tr style=\"text-align: right;\">\n",
       "      <th></th>\n",
       "      <th>Quartile</th>\n",
       "      <th>Triples per At Bat per Player</th>\n",
       "    </tr>\n",
       "  </thead>\n",
       "  <tbody>\n",
       "    <tr>\n",
       "      <th>0</th>\n",
       "      <td>1</td>\n",
       "      <td>0.005605</td>\n",
       "    </tr>\n",
       "    <tr>\n",
       "      <th>1</th>\n",
       "      <td>2</td>\n",
       "      <td>0.004734</td>\n",
       "    </tr>\n",
       "    <tr>\n",
       "      <th>2</th>\n",
       "      <td>3</td>\n",
       "      <td>0.004098</td>\n",
       "    </tr>\n",
       "    <tr>\n",
       "      <th>3</th>\n",
       "      <td>4</td>\n",
       "      <td>0.002618</td>\n",
       "    </tr>\n",
       "  </tbody>\n",
       "</table>\n",
       "</div>"
      ],
      "text/plain": [
       "   Quartile  Triples per At Bat per Player\n",
       "0         1                       0.005605\n",
       "1         2                       0.004734\n",
       "2         3                       0.004098\n",
       "3         4                       0.002618"
      ]
     },
     "execution_count": 36,
     "metadata": {},
     "output_type": "execute_result"
    }
   ],
   "source": [
    "d= {'Triples per At Bat per Player' : [baseball_1st.TRAB.median(),baseball_2nd.TRAB.median(),baseball_3rd.TRAB.median(),baseball_4th.TRAB.median()], 'Quartile':[1,2,3,4]}\n",
    "df2 =pd.DataFrame(d, columns=['Quartile', 'Triples per At Bat per Player'])\n",
    "df2 "
   ]
  },
  {
   "cell_type": "code",
   "execution_count": 37,
   "metadata": {},
   "outputs": [
    {
     "name": "stdout",
     "output_type": "stream",
     "text": [
      "            sum_sq      df           F        PR(>F)\n",
      "quartile  0.002795     1.0  106.628099  2.032618e-24\n",
      "Residual  0.055178  2105.0         NaN           NaN\n"
     ]
    }
   ],
   "source": [
    "model = ols('TRAB ~ quartile', data = baseball).fit()\n",
    "aov = sm.stats.anova_lm(model, typ=2)\n",
    "print(aov)"
   ]
  },
  {
   "cell_type": "code",
   "execution_count": 38,
   "metadata": {},
   "outputs": [
    {
     "name": "stdout",
     "output_type": "stream",
     "text": [
      "            sum_sq      df          F        PR(>F)\n",
      "quartile  0.000941     1.0  32.329529  1.547543e-08\n",
      "Residual  0.045925  1578.0        NaN           NaN\n"
     ]
    }
   ],
   "source": [
    "model = ols('TRAB ~ quartile', data = baseball123).fit()\n",
    "aov = sm.stats.anova_lm(model, typ=2)\n",
    "print(aov) "
   ]
  },
  {
   "cell_type": "code",
   "execution_count": 39,
   "metadata": {},
   "outputs": [
    {
     "name": "stdout",
     "output_type": "stream",
     "text": [
      "            sum_sq      df         F    PR(>F)\n",
      "quartile  0.000276     1.0  8.746339  0.003172\n",
      "Residual  0.033211  1052.0       NaN       NaN\n"
     ]
    }
   ],
   "source": [
    "model = ols('TRAB ~ quartile', data = baseball12).fit()\n",
    "aov = sm.stats.anova_lm(model, typ=2)\n",
    "print(aov) "
   ]
  },
  {
   "cell_type": "markdown",
   "metadata": {},
   "source": [
    "#### Doubles are much more common than triples in baseball and at first look it appears as though the quartiles are rather comparable in terms of doubles.  Quartiles 1, 3, and 4 are very close while quartile 2 is the lowest.  Once again, we see quartile 1 outperforming quartile 2 which is becomming an interesting trend.  "
   ]
  },
  {
   "cell_type": "code",
   "execution_count": 40,
   "metadata": {},
   "outputs": [
    {
     "data": {
      "image/png": "[encoded data removed]",
      "text/plain": [
       "<Figure size 432x288 with 1 Axes>"
      ]
     },
     "metadata": {
      "needs_background": "light"
     },
     "output_type": "display_data"
    }
   ],
   "source": [
    "objects = ('First Quartile', 'Second Quartile', 'Third Quartile', 'Fourth Quartile')\n",
    "y_pos = np.arange(len(objects))\n",
    "performance = [baseball_1st.DOAB.mean(),baseball_2nd.DOAB.mean(),baseball_3rd.DOAB.mean(),baseball_4th.DOAB.mean()]\n",
    "\n",
    "plt.bar(y_pos, performance, align='center', alpha=0.5)\n",
    "plt.xticks(y_pos, objects)\n",
    "plt.ylabel('Mean Doubles per at bat per Player')\n",
    "plt.title('Doubles per at bat per Quartile')\n",
    "\n",
    "plt.show()\n",
    "\n",
    "\n"
   ]
  },
  {
   "cell_type": "code",
   "execution_count": 41,
   "metadata": {},
   "outputs": [
    {
     "data": {
      "text/html": [
       "<div>\n",
       "<style scoped>\n",
       "    .dataframe tbody tr th:only-of-type {\n",
       "        vertical-align: middle;\n",
       "    }\n",
       "\n",
       "    .dataframe tbody tr th {\n",
       "        vertical-align: top;\n",
       "    }\n",
       "\n",
       "    .dataframe thead th {\n",
       "        text-align: right;\n",
       "    }\n",
       "</style>\n",
       "<table border=\"1\" class=\"dataframe\">\n",
       "  <thead>\n",
       "    <tr style=\"text-align: right;\">\n",
       "      <th></th>\n",
       "      <th>Quartile</th>\n",
       "      <th>Doubles per At Bat per Player</th>\n",
       "    </tr>\n",
       "  </thead>\n",
       "  <tbody>\n",
       "    <tr>\n",
       "      <th>0</th>\n",
       "      <td>1</td>\n",
       "      <td>0.053608</td>\n",
       "    </tr>\n",
       "    <tr>\n",
       "      <th>1</th>\n",
       "      <td>2</td>\n",
       "      <td>0.051336</td>\n",
       "    </tr>\n",
       "    <tr>\n",
       "      <th>2</th>\n",
       "      <td>3</td>\n",
       "      <td>0.054715</td>\n",
       "    </tr>\n",
       "    <tr>\n",
       "      <th>3</th>\n",
       "      <td>4</td>\n",
       "      <td>0.054967</td>\n",
       "    </tr>\n",
       "  </tbody>\n",
       "</table>\n",
       "</div>"
      ],
      "text/plain": [
       "   Quartile  Doubles per At Bat per Player\n",
       "0         1                       0.053608\n",
       "1         2                       0.051336\n",
       "2         3                       0.054715\n",
       "3         4                       0.054967"
      ]
     },
     "execution_count": 41,
     "metadata": {},
     "output_type": "execute_result"
    }
   ],
   "source": [
    "d= {'Doubles per At Bat per Player' : [baseball_1st.DOAB.mean(),baseball_2nd.DOAB.mean(),baseball_3rd.DOAB.mean(),baseball_4th.DOAB.mean()], 'Quartile':[1,2,3,4]}\n",
    "df2 =pd.DataFrame(d, columns=['Quartile', 'Doubles per At Bat per Player'])\n",
    "df2 "
   ]
  },
  {
   "cell_type": "code",
   "execution_count": 42,
   "metadata": {},
   "outputs": [
    {
     "name": "stdout",
     "output_type": "stream",
     "text": [
      "            sum_sq      df         F    PR(>F)\n",
      "quartile  0.001456     1.0  8.312283  0.003978\n",
      "Residual  0.368591  2105.0       NaN       NaN\n"
     ]
    }
   ],
   "source": [
    "model = ols('DOAB ~ quartile', data = baseball).fit()\n",
    "aov = sm.stats.anova_lm(model, typ=2)\n",
    "print(aov)"
   ]
  },
  {
   "cell_type": "code",
   "execution_count": 43,
   "metadata": {},
   "outputs": [
    {
     "name": "stdout",
     "output_type": "stream",
     "text": [
      "            sum_sq      df         F    PR(>F)\n",
      "quartile  0.000319     1.0  1.813002  0.178342\n",
      "Residual  0.277563  1578.0       NaN       NaN\n"
     ]
    }
   ],
   "source": [
    "model = ols('DOAB ~ quartile', data = baseball123).fit()\n",
    "aov = sm.stats.anova_lm(model, typ=2)\n",
    "print(aov)"
   ]
  },
  {
   "cell_type": "code",
   "execution_count": 44,
   "metadata": {},
   "outputs": [
    {
     "name": "stdout",
     "output_type": "stream",
     "text": [
      "            sum_sq      df         F    PR(>F)\n",
      "quartile  0.001361     1.0  7.329412  0.006893\n",
      "Residual  0.195325  1052.0       NaN       NaN\n"
     ]
    }
   ],
   "source": [
    "model = ols('DOAB ~ quartile', data = baseball12).fit()\n",
    "aov = sm.stats.anova_lm(model, typ=2)\n",
    "print(aov) "
   ]
  },
  {
   "cell_type": "markdown",
   "metadata": {},
   "source": [
    "#### RBIs are another very important statistic in baseball.  RBIs have a clutch factor involved in that it involves performing at the plate when teammates are in scoring position.  Clutchness is often tough to measure but RBIs provide a little bit of insight on this.  Like the other important statistics that we have mentioned, the 4th quartile players are performing at a significantly higher level and the 3rd quartile are clearly performing the 2nd best.  And once again, the first quartile players are outperforming the 2nd quartile players, but not at a statistically significant level for RBI."
   ]
  },
  {
   "cell_type": "code",
   "execution_count": 45,
   "metadata": {},
   "outputs": [
    {
     "data": {
      "image/png": "[encoded data removed]",
      "text/plain": [
       "<Figure size 432x288 with 1 Axes>"
      ]
     },
     "metadata": {
      "needs_background": "light"
     },
     "output_type": "display_data"
    }
   ],
   "source": [
    "objects = ('First Quartile', 'Second Quartile', 'Third Quartile', 'Fourth Quartile')\n",
    "y_pos = np.arange(len(objects))\n",
    "performance = [baseball_1st.RBIAB.mean(),baseball_2nd.RBIAB.mean(),baseball_3rd.RBIAB.mean(),baseball_4th.RBIAB.mean()]\n",
    "\n",
    "plt.bar(y_pos, performance, align='center', alpha=0.5)\n",
    "plt.xticks(y_pos, objects)\n",
    "plt.ylabel('Mean RBIs per at bat per Player')\n",
    "plt.title('RBIs per at bat per Salary Quartile')\n",
    "\n",
    "plt.show()\n",
    "\n",
    "\n"
   ]
  },
  {
   "cell_type": "code",
   "execution_count": 46,
   "metadata": {},
   "outputs": [
    {
     "data": {
      "text/html": [
       "<div>\n",
       "<style scoped>\n",
       "    .dataframe tbody tr th:only-of-type {\n",
       "        vertical-align: middle;\n",
       "    }\n",
       "\n",
       "    .dataframe tbody tr th {\n",
       "        vertical-align: top;\n",
       "    }\n",
       "\n",
       "    .dataframe thead th {\n",
       "        text-align: right;\n",
       "    }\n",
       "</style>\n",
       "<table border=\"1\" class=\"dataframe\">\n",
       "  <thead>\n",
       "    <tr style=\"text-align: right;\">\n",
       "      <th></th>\n",
       "      <th>Quartile</th>\n",
       "      <th>RBIs per At Bat per Player</th>\n",
       "    </tr>\n",
       "  </thead>\n",
       "  <tbody>\n",
       "    <tr>\n",
       "      <th>0</th>\n",
       "      <td>1</td>\n",
       "      <td>0.121651</td>\n",
       "    </tr>\n",
       "    <tr>\n",
       "      <th>1</th>\n",
       "      <td>2</td>\n",
       "      <td>0.120992</td>\n",
       "    </tr>\n",
       "    <tr>\n",
       "      <th>2</th>\n",
       "      <td>3</td>\n",
       "      <td>0.133146</td>\n",
       "    </tr>\n",
       "    <tr>\n",
       "      <th>3</th>\n",
       "      <td>4</td>\n",
       "      <td>0.147784</td>\n",
       "    </tr>\n",
       "  </tbody>\n",
       "</table>\n",
       "</div>"
      ],
      "text/plain": [
       "   Quartile  RBIs per At Bat per Player\n",
       "0         1                    0.121651\n",
       "1         2                    0.120992\n",
       "2         3                    0.133146\n",
       "3         4                    0.147784"
      ]
     },
     "execution_count": 46,
     "metadata": {},
     "output_type": "execute_result"
    }
   ],
   "source": [
    "d= {'RBIs per At Bat per Player' : [baseball_1st.RBIAB.mean(),baseball_2nd.RBIAB.mean(),baseball_3rd.RBIAB.mean(),baseball_4th.RBIAB.mean()], 'Quartile':[1,2,3,4]}\n",
    "df2 =pd.DataFrame(d, columns=['Quartile', 'RBIs per At Bat per Player'])\n",
    "df2 "
   ]
  },
  {
   "cell_type": "code",
   "execution_count": 47,
   "metadata": {},
   "outputs": [
    {
     "name": "stdout",
     "output_type": "stream",
     "text": [
      "            sum_sq      df           F        PR(>F)\n",
      "quartile  0.216049     1.0  165.801366  1.413392e-36\n",
      "Residual  2.742940  2105.0         NaN           NaN\n"
     ]
    }
   ],
   "source": [
    "model = ols('RBIAB ~ quartile', data = baseball).fit()\n",
    "aov = sm.stats.anova_lm(model, typ=2)\n",
    "print(aov)"
   ]
  },
  {
   "cell_type": "code",
   "execution_count": 48,
   "metadata": {},
   "outputs": [
    {
     "name": "stdout",
     "output_type": "stream",
     "text": [
      "            sum_sq      df          F        PR(>F)\n",
      "quartile  0.034782     1.0  27.879374  1.470946e-07\n",
      "Residual  1.968706  1578.0        NaN           NaN\n"
     ]
    }
   ],
   "source": [
    "model = ols('RBIAB ~ quartile', data = baseball123).fit()\n",
    "aov = sm.stats.anova_lm(model, typ=2)\n",
    "print(aov)"
   ]
  },
  {
   "cell_type": "code",
   "execution_count": 49,
   "metadata": {},
   "outputs": [
    {
     "name": "stdout",
     "output_type": "stream",
     "text": [
      "            sum_sq      df         F    PR(>F)\n",
      "quartile  0.000114     1.0  0.090285  0.763874\n",
      "Residual  1.333916  1052.0       NaN       NaN\n"
     ]
    }
   ],
   "source": [
    "model = ols('RBIAB ~ quartile', data = baseball12).fit()\n",
    "aov = sm.stats.anova_lm(model, typ=2)\n",
    "print(aov) "
   ]
  },
  {
   "cell_type": "markdown",
   "metadata": {},
   "source": [
    "#### Higher paid players are getting walked more often, followed significantly by 3rd quartile players.  This makes sense because often times pitchers will pitch around good hitters or even intentionally walk them (throw 4 balls in a row on purpose).  1st and 2nd quartile salary players have no significant difference."
   ]
  },
  {
   "cell_type": "code",
   "execution_count": 50,
   "metadata": {},
   "outputs": [
    {
     "data": {
      "image/png": "[encoded data removed]",
      "text/plain": [
       "<Figure size 432x288 with 1 Axes>"
      ]
     },
     "metadata": {
      "needs_background": "light"
     },
     "output_type": "display_data"
    }
   ],
   "source": [
    "objects = ('First Quartile', 'Second Quartile', 'Third Quartile', 'Fourth Quartile')\n",
    "y_pos = np.arange(len(objects))\n",
    "performance = [baseball_1st.BBAB.mean(),baseball_2nd.BBAB.mean(),baseball_3rd.BBAB.mean(),baseball_4th.BBAB.mean()]\n",
    "\n",
    "plt.bar(y_pos, performance, align='center', alpha=0.5)\n",
    "plt.xticks(y_pos, objects)\n",
    "plt.ylabel('Mean Walks per at bat per Player')\n",
    "plt.title('Walks per at bat per Quartile')\n",
    "\n",
    "plt.show()\n",
    "\n",
    "\n"
   ]
  },
  {
   "cell_type": "code",
   "execution_count": 51,
   "metadata": {},
   "outputs": [
    {
     "data": {
      "text/html": [
       "<div>\n",
       "<style scoped>\n",
       "    .dataframe tbody tr th:only-of-type {\n",
       "        vertical-align: middle;\n",
       "    }\n",
       "\n",
       "    .dataframe tbody tr th {\n",
       "        vertical-align: top;\n",
       "    }\n",
       "\n",
       "    .dataframe thead th {\n",
       "        text-align: right;\n",
       "    }\n",
       "</style>\n",
       "<table border=\"1\" class=\"dataframe\">\n",
       "  <thead>\n",
       "    <tr style=\"text-align: right;\">\n",
       "      <th></th>\n",
       "      <th>Quartile</th>\n",
       "      <th>Walks per At Bat per Player</th>\n",
       "    </tr>\n",
       "  </thead>\n",
       "  <tbody>\n",
       "    <tr>\n",
       "      <th>0</th>\n",
       "      <td>1</td>\n",
       "      <td>0.090989</td>\n",
       "    </tr>\n",
       "    <tr>\n",
       "      <th>1</th>\n",
       "      <td>2</td>\n",
       "      <td>0.091516</td>\n",
       "    </tr>\n",
       "    <tr>\n",
       "      <th>2</th>\n",
       "      <td>3</td>\n",
       "      <td>0.097253</td>\n",
       "    </tr>\n",
       "    <tr>\n",
       "      <th>3</th>\n",
       "      <td>4</td>\n",
       "      <td>0.110064</td>\n",
       "    </tr>\n",
       "  </tbody>\n",
       "</table>\n",
       "</div>"
      ],
      "text/plain": [
       "   Quartile  Walks per At Bat per Player\n",
       "0         1                     0.090989\n",
       "1         2                     0.091516\n",
       "2         3                     0.097253\n",
       "3         4                     0.110064"
      ]
     },
     "execution_count": 51,
     "metadata": {},
     "output_type": "execute_result"
    }
   ],
   "source": [
    "d= {'Walks per At Bat per Player' : [baseball_1st.BBAB.mean(),baseball_2nd.BBAB.mean(),baseball_3rd.BBAB.mean(),baseball_4th.BBAB.mean()], 'Quartile':[1,2,3,4]}\n",
    "df2 =pd.DataFrame(d, columns=['Quartile', 'Walks per At Bat per Player'])\n",
    "df2 "
   ]
  },
  {
   "cell_type": "code",
   "execution_count": 52,
   "metadata": {},
   "outputs": [
    {
     "name": "stdout",
     "output_type": "stream",
     "text": [
      "            sum_sq      df          F        PR(>F)\n",
      "quartile  0.104484     1.0  70.019571  1.054980e-16\n",
      "Residual  3.141109  2105.0        NaN           NaN\n"
     ]
    }
   ],
   "source": [
    "model = ols('BBAB ~ quartile', data = baseball).fit()\n",
    "aov = sm.stats.anova_lm(model, typ=2)\n",
    "print(aov)"
   ]
  },
  {
   "cell_type": "code",
   "execution_count": 53,
   "metadata": {},
   "outputs": [
    {
     "name": "stdout",
     "output_type": "stream",
     "text": [
      "            sum_sq      df         F    PR(>F)\n",
      "quartile  0.010335     1.0  7.932754  0.004915\n",
      "Residual  2.055916  1578.0       NaN       NaN\n"
     ]
    }
   ],
   "source": [
    "model = ols('BBAB ~ quartile', data = baseball123).fit()\n",
    "aov = sm.stats.anova_lm(model, typ=2)\n",
    "print(aov)"
   ]
  },
  {
   "cell_type": "code",
   "execution_count": 54,
   "metadata": {},
   "outputs": [
    {
     "name": "stdout",
     "output_type": "stream",
     "text": [
      "            sum_sq      df         F    PR(>F)\n",
      "quartile  0.000073     1.0  0.058398  0.809094\n",
      "Residual  1.314813  1052.0       NaN       NaN\n"
     ]
    }
   ],
   "source": [
    "model = ols('BBAB ~ quartile', data = baseball12).fit()\n",
    "aov = sm.stats.anova_lm(model, typ=2)\n",
    "print(aov) "
   ]
  },
  {
   "cell_type": "markdown",
   "metadata": {},
   "source": [
    "#### Now we look at strikeouts per at bat, a statistic you do not want to be leading.  This statistic falls directly in place with the quartiles in that 1st quartile players are striking out at the highest rate all the way down to 4th quartile players striking out the least, all at statistically significant levels."
   ]
  },
  {
   "cell_type": "code",
   "execution_count": 55,
   "metadata": {},
   "outputs": [
    {
     "data": {
      "image/png": "[encoded data removed]",
      "text/plain": [
       "<Figure size 432x288 with 1 Axes>"
      ]
     },
     "metadata": {
      "needs_background": "light"
     },
     "output_type": "display_data"
    }
   ],
   "source": [
    "objects = ('First Quartile', 'Second Quartile', 'Third Quartile', 'Fourth Quartile')\n",
    "y_pos = np.arange(len(objects))\n",
    "performance = [baseball_1st.SOAB.mean(),baseball_2nd.SOAB.mean(),baseball_3rd.SOAB.mean(),baseball_4th.SOAB.mean()]\n",
    "\n",
    "plt.bar(y_pos, performance, align='center', alpha=0.5)\n",
    "plt.xticks(y_pos, objects)\n",
    "plt.ylabel('Mean SO per at bat per Player')\n",
    "plt.title('SO per at bat per Quartile')\n",
    "\n",
    "plt.show()"
   ]
  },
  {
   "cell_type": "code",
   "execution_count": 56,
   "metadata": {},
   "outputs": [
    {
     "data": {
      "text/html": [
       "<div>\n",
       "<style scoped>\n",
       "    .dataframe tbody tr th:only-of-type {\n",
       "        vertical-align: middle;\n",
       "    }\n",
       "\n",
       "    .dataframe tbody tr th {\n",
       "        vertical-align: top;\n",
       "    }\n",
       "\n",
       "    .dataframe thead th {\n",
       "        text-align: right;\n",
       "    }\n",
       "</style>\n",
       "<table border=\"1\" class=\"dataframe\">\n",
       "  <thead>\n",
       "    <tr style=\"text-align: right;\">\n",
       "      <th></th>\n",
       "      <th>Quartile</th>\n",
       "      <th>Strikeout per At Bat per Player</th>\n",
       "    </tr>\n",
       "  </thead>\n",
       "  <tbody>\n",
       "    <tr>\n",
       "      <th>0</th>\n",
       "      <td>1</td>\n",
       "      <td>0.210060</td>\n",
       "    </tr>\n",
       "    <tr>\n",
       "      <th>1</th>\n",
       "      <td>2</td>\n",
       "      <td>0.202689</td>\n",
       "    </tr>\n",
       "    <tr>\n",
       "      <th>2</th>\n",
       "      <td>3</td>\n",
       "      <td>0.194049</td>\n",
       "    </tr>\n",
       "    <tr>\n",
       "      <th>3</th>\n",
       "      <td>4</td>\n",
       "      <td>0.194835</td>\n",
       "    </tr>\n",
       "  </tbody>\n",
       "</table>\n",
       "</div>"
      ],
      "text/plain": [
       "   Quartile  Strikeout per At Bat per Player\n",
       "0         1                         0.210060\n",
       "1         2                         0.202689\n",
       "2         3                         0.194049\n",
       "3         4                         0.194835"
      ]
     },
     "execution_count": 56,
     "metadata": {},
     "output_type": "execute_result"
    }
   ],
   "source": [
    "d= {'Strikeout per At Bat per Player' : [baseball_1st.SOAB.mean(),baseball_2nd.SOAB.mean(),baseball_3rd.SOAB.mean(),baseball_4th.SOAB.mean()], 'Quartile':[1,2,3,4]}\n",
    "df2 =pd.DataFrame(d, columns=['Quartile', 'Strikeout per At Bat per Player'])\n",
    "df2 "
   ]
  },
  {
   "cell_type": "code",
   "execution_count": 57,
   "metadata": {},
   "outputs": [
    {
     "name": "stdout",
     "output_type": "stream",
     "text": [
      "            sum_sq      df          F    PR(>F)\n",
      "quartile  0.077966     1.0  18.370493  0.000019\n",
      "Residual  8.933824  2105.0        NaN       NaN\n"
     ]
    }
   ],
   "source": [
    "model = ols('SOAB ~ quartile', data = baseball).fit()\n",
    "aov = sm.stats.anova_lm(model, typ=2)\n",
    "print(aov) "
   ]
  },
  {
   "cell_type": "code",
   "execution_count": 58,
   "metadata": {},
   "outputs": [
    {
     "name": "stdout",
     "output_type": "stream",
     "text": [
      "            sum_sq      df          F    PR(>F)\n",
      "quartile  0.067664     1.0  16.044464  0.000065\n",
      "Residual  6.654889  1578.0        NaN       NaN\n"
     ]
    }
   ],
   "source": [
    "model = ols('SOAB ~ quartile', data = baseball123).fit()\n",
    "aov = sm.stats.anova_lm(model, typ=2)\n",
    "print(aov) "
   ]
  },
  {
   "cell_type": "code",
   "execution_count": 59,
   "metadata": {},
   "outputs": [
    {
     "name": "stdout",
     "output_type": "stream",
     "text": [
      "            sum_sq      df         F    PR(>F)\n",
      "quartile  0.014316     1.0  3.434149  0.064141\n",
      "Residual  4.385589  1052.0       NaN       NaN\n"
     ]
    }
   ],
   "source": [
    "model = ols('SOAB ~ quartile', data = baseball12).fit()\n",
    "aov = sm.stats.anova_lm(model, typ=2)\n",
    "print(aov) "
   ]
  },
  {
   "cell_type": "code",
   "execution_count": 60,
   "metadata": {},
   "outputs": [],
   "source": [
    "from sklearn import linear_model\n"
   ]
  },
  {
   "cell_type": "code",
   "execution_count": 61,
   "metadata": {},
   "outputs": [],
   "source": [
    "baseballPred = baseball[['SOAB', 'BBAB', 'BA', 'HRAB', 'TRAB', 'DOAB', 'RBIAB', 'salary']]"
   ]
  },
  {
   "cell_type": "code",
   "execution_count": 62,
   "metadata": {},
   "outputs": [
    {
     "name": "stdout",
     "output_type": "stream",
     "text": [
      "                            OLS Regression Results                            \n",
      "==============================================================================\n",
      "Dep. Variable:                 salary   R-squared:                       0.164\n",
      "Model:                            OLS   Adj. R-squared:                  0.161\n",
      "Method:                 Least Squares   F-statistic:                     58.64\n",
      "Date:                Fri, 31 May 2019   Prob (F-statistic):           4.64e-77\n",
      "Time:                        15:43:38   Log-Likelihood:                -35599.\n",
      "No. Observations:                2107   AIC:                         7.121e+04\n",
      "Df Residuals:                    2099   BIC:                         7.126e+04\n",
      "Df Model:                           7                                         \n",
      "Covariance Type:            nonrobust                                         \n",
      "==============================================================================\n",
      "                 coef    std err          t      P>|t|      [0.025      0.975]\n",
      "------------------------------------------------------------------------------\n",
      "Intercept    1.96e+05   1.47e+06      0.133      0.894   -2.68e+06    3.08e+06\n",
      "SOAB       -1.589e+07   2.41e+06     -6.583      0.000   -2.06e+07   -1.12e+07\n",
      "BBAB        2.239e+07   3.28e+06      6.833      0.000     1.6e+07    2.88e+07\n",
      "BA          2.096e+07   5.38e+06      3.895      0.000    1.04e+07    3.15e+07\n",
      "HRAB        4.954e+07   1.29e+07      3.850      0.000    2.43e+07    7.48e+07\n",
      "TRAB       -1.721e+08   2.39e+07     -7.215      0.000   -2.19e+08   -1.25e+08\n",
      "DOAB       -4.922e+07   1.02e+07     -4.808      0.000   -6.93e+07   -2.91e+07\n",
      "RBIAB         1.8e+07   6.11e+06      2.948      0.003    6.03e+06       3e+07\n",
      "==============================================================================\n",
      "Omnibus:                      421.619   Durbin-Watson:                   1.901\n",
      "Prob(Omnibus):                  0.000   Jarque-Bera (JB):              766.988\n",
      "Skew:                           1.239   Prob(JB):                    2.82e-167\n",
      "Kurtosis:                       4.611   Cond. No.                         223.\n",
      "==============================================================================\n",
      "\n",
      "Warnings:\n",
      "[1] Standard Errors assume that the covariance matrix of the errors is correctly specified.\n",
      "                            OLS Regression Results                            \n",
      "==============================================================================\n",
      "Dep. Variable:                 salary   R-squared:                       0.090\n",
      "Model:                            OLS   Adj. R-squared:                  0.089\n",
      "Method:                 Least Squares   F-statistic:                     104.2\n",
      "Date:                Fri, 31 May 2019   Prob (F-statistic):           7.21e-44\n",
      "Time:                        15:43:38   Log-Likelihood:                -35687.\n",
      "No. Observations:                2107   AIC:                         7.138e+04\n",
      "Df Residuals:                    2104   BIC:                         7.140e+04\n",
      "Df Model:                           2                                         \n",
      "Covariance Type:            nonrobust                                         \n",
      "==============================================================================\n",
      "                 coef    std err          t      P>|t|      [0.025      0.975]\n",
      "------------------------------------------------------------------------------\n",
      "Intercept  -5.078e+06   1.11e+06     -4.581      0.000   -7.25e+06    -2.9e+06\n",
      "BA          2.854e+07   4.09e+06      6.985      0.000    2.05e+07    3.65e+07\n",
      "HRAB        8.074e+07   6.63e+06     12.180      0.000    6.77e+07    9.37e+07\n",
      "==============================================================================\n",
      "Omnibus:                      442.113   Durbin-Watson:                   1.922\n",
      "Prob(Omnibus):                  0.000   Jarque-Bera (JB):              812.727\n",
      "Skew:                           1.294   Prob(JB):                    3.30e-177\n",
      "Kurtosis:                       4.600   Cond. No.                         57.4\n",
      "==============================================================================\n",
      "\n",
      "Warnings:\n",
      "[1] Standard Errors assume that the covariance matrix of the errors is correctly specified.\n",
      "                 Generalized Linear Model Regression Results                  \n",
      "==============================================================================\n",
      "Dep. Variable:                 salary   No. Observations:                 2107\n",
      "Model:                            GLM   Df Residuals:                     2099\n",
      "Model Family:                Gaussian   Df Model:                            7\n",
      "Link Function:               identity   Scale:                      2.7816e+13\n",
      "Method:                          IRLS   Log-Likelihood:                -35599.\n",
      "Date:                Fri, 31 May 2019   Deviance:                   5.8386e+16\n",
      "Time:                        15:43:38   Pearson chi2:                 5.84e+16\n",
      "No. Iterations:                     3   Covariance Type:             nonrobust\n",
      "==============================================================================\n",
      "                 coef    std err          z      P>|z|      [0.025      0.975]\n",
      "------------------------------------------------------------------------------\n",
      "Intercept    1.96e+05   1.47e+06      0.133      0.894   -2.68e+06    3.08e+06\n",
      "SOAB       -1.589e+07   2.41e+06     -6.583      0.000   -2.06e+07   -1.12e+07\n",
      "BBAB        2.239e+07   3.28e+06      6.833      0.000     1.6e+07    2.88e+07\n",
      "BA          2.096e+07   5.38e+06      3.895      0.000    1.04e+07    3.15e+07\n",
      "HRAB        4.954e+07   1.29e+07      3.850      0.000    2.43e+07    7.48e+07\n",
      "TRAB       -1.721e+08   2.39e+07     -7.215      0.000   -2.19e+08   -1.25e+08\n",
      "DOAB       -4.922e+07   1.02e+07     -4.808      0.000   -6.93e+07   -2.92e+07\n",
      "RBIAB         1.8e+07   6.11e+06      2.948      0.003    6.03e+06       3e+07\n",
      "==============================================================================\n",
      "                 Generalized Linear Model Regression Results                  \n",
      "==============================================================================\n",
      "Dep. Variable:                 salary   No. Observations:                 2107\n",
      "Model:                            GLM   Df Residuals:                     2103\n",
      "Model Family:                Gaussian   Df Model:                            3\n",
      "Link Function:               identity   Scale:                      2.9828e+13\n",
      "Method:                          IRLS   Log-Likelihood:                -35674.\n",
      "Date:                Fri, 31 May 2019   Deviance:                   6.2729e+16\n",
      "Time:                        15:43:38   Pearson chi2:                 6.27e+16\n",
      "No. Iterations:                     3   Covariance Type:             nonrobust\n",
      "==============================================================================\n",
      "                 coef    std err          z      P>|z|      [0.025      0.975]\n",
      "------------------------------------------------------------------------------\n",
      "Intercept  -6.453e+06   1.13e+06     -5.690      0.000   -8.68e+06   -4.23e+06\n",
      "BA          2.929e+07   4.06e+06      7.207      0.000    2.13e+07    3.73e+07\n",
      "HRAB         6.58e+07   7.21e+06      9.133      0.000    5.17e+07    7.99e+07\n",
      "BBAB          1.7e+07   3.31e+06      5.128      0.000    1.05e+07    2.35e+07\n",
      "==============================================================================\n"
     ]
    }
   ],
   "source": [
    "model = smf.ols('salary ~ SOAB + BBAB + BA + HRAB + TRAB + DOAB + RBIAB', data = baseballPred)\n",
    "results = model.fit()\n",
    "print(results.summary())\n",
    "#yhat = model.predict(baseballPred)\n",
    "#print(yhat)\n",
    "\n",
    "model = smf.ols('salary ~ BA + HRAB', data = baseballPred)\n",
    "results = model.fit()\n",
    "print(results.summary())\n",
    "\n",
    "model = sm.formula.glm(\"salary ~ SOAB + BBAB + BA + HRAB + TRAB + DOAB + RBIAB\", data=baseballPred).fit()\n",
    "print(model.summary())\n",
    "\n",
    "model = sm.formula.glm(\"salary ~ BA + HRAB + BBAB\", data=baseballPred).fit()\n",
    "print(model.summary())\n"
   ]
  }
 ],
 "metadata": {
  "kernelspec": {
   "display_name": "Python 3",
   "language": "python",
   "name": "python3"
  },
  "language_info": {
   "codemirror_mode": {
    "name": "ipython",
    "version": 3
   },
   "file_extension": ".py",
   "mimetype": "text/x-python",
   "name": "python",
   "nbconvert_exporter": "python",
   "pygments_lexer": "ipython3",
   "version": "3.7.3"
  }
 },
 "nbformat": 4,
 "nbformat_minor": 2
}
