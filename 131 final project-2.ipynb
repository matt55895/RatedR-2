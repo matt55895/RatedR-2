{
 "cells": [
  {
   "cell_type": "markdown",
   "metadata": {},
   "source": [
    "# Bang For Your Buck: MLB Edition\n",
    "\n",
    "## By : Rated R^2 (Matthew Phillips, Jacob Laundroche, Esther Shin, Gerrad , Jackson )"
   ]
  },
  {
   "cell_type": "markdown",
   "metadata": {},
   "source": [
    "### Research Question: \n",
    "Are position players on higher salaries actually performing better as hitters? If so, which batting statistics are most telling in how much a player is getting paid?"
   ]
  },
  {
   "cell_type": "markdown",
   "metadata": {},
   "source": [
    "### Background Information\n",
    "\n",
    "   ####    For this project, our group, Rated R^2, analyzed Sean Lahman's baseball datasets in order to deeper evaluate the game of baseball. After battling with deciding where to take our research, we decided to focus on one of the hottest topics in Major League Baseball right now, money. This offseason some players, like Bryce Harper, Mike Trout, and Manny Machado, signed contracts for 300+ million dollars. With that in mind,  we wanted to see if some players are really as valuable as they seem. For this reason, our data focuses on the attributes of every player from the 2007-2016 seasons in order for us to evaluate their salaries. Because baseball data is recorded at every baseball game, we are able to look at players from all 30 teams from both the American League and National League Divisions that comprise Major Leage Baseball over each regular season, 162 games, in order to draw conclusions about which players are worth the money.\n",
    "   ####   Baseball is a game played between 2 teams with 9 players on each team. Each player plays a different position on the field, Pitcher, Catcher, Third Base, Shortstop, Second Base, First Base, Right Field, Center Field, and Left Field. While one team plays the field, the opposing team is on offense or hitting/batting. There are 9 innings in a Major League Baseball game with each team receiving an opportunity to bat in each inning. Each player or batter on the offensive team has an opportunity to reach base where they recieve pitches from the pitcher and attempt to hit the ball or get on base a different way. It is importnat to note here that pitchers typically are poor hitters, and in the American League, someone is allowed to hit for them in the game (this is called a DH or designated hitter). A batter receives pitches from the pitcher that either lead to a strikeout, walk, hit, out, error, sacrifice, or hit-by-pitch. A strikeout is recorded if the pitcher successfully throws the batter three strikes without the batter hitting the third strike. A walk is recorded if the pitcher throws 4 balls in which the batter is allowed to go to first base. A hit is recorded if the batter makes contact with ball in the field of play and the defensive team is unable to field the ball. An out is recorded if the batter hits a ball and the defense successfully field the ball causing the player to be out. With three outs, the teams switch from offense to defense (this occurs 18 times in a Major League Baseball game). An error is recorded if the defensive team has a chance to field the ball after the batter has hit the ball, yet they poorly execute the play and the hitter still reaches base. A sacrifice is when a batter hits a ball which results in an out, yet a runner on a base advances to the next base. A hit-by-pitch is recorded if a pitcher hits a batter with his pitch; this allows the batter to take first base. When a batter gets on base, he now becomes a runner and tries to touch all four bases before his/her team receives three outs. If at anytime, a batter helps a runner on base score a run, the batter receives an RBI, run-batted-in. Everytime a batter receives an out, error, hit, or strikeout a batter receives an At Bat (‘AB’ in this dataset); walks, sacrifices, and hit-by-pitch do not count for an ‘AB’ for a batter. With this basis of understanding, we trimmed down our data to incorporate these hitting statistics to help look at salary for players. \n",
    "   ####    In order to get more specific hitting stats, we broke hits down into doubles, triples and homeruns. A double is anytime a player gets a hit and is able to reach second base before the defense can successfully field the ball with no errors. Similarly, a triple is anytime a batter gets to third base without the fielders being able to make a play with no errors on the ball. Finally, a homerun is when a player either hits the ball out of the park, or is able to touch all four bases before the fielders are able to make a play on the ball with no errors.\n",
    "   ####    Using these hitting statistics for a batter, we created new variables that would better suit our analysis. In order to see how many hits a player averages per at bat, we divided the hits variable by the ‘AB’ variable to get batting average or ‘BA’ in our data. Next, we created ‘BBAB’ which is base-on-balls or walks per ‘AB’. Then, we created ‘TRAB’,  triples per ‘AB’, ‘DOAB’, doubles per ‘AB’, ‘RBIAB, RBIs per ‘AB’, ‘HRAB’, homeruns per ‘AB’, and  ‘SOAB’, strikeouts per ‘AB’. \n",
    "   ####    This dataset we created by merging several of Lahman’s baseball datasets includes the above variables along with ‘salary’ and ‘G_all’ and ‘playerID’ which were also very important in our analysis. The ‘salary’ variable is how much money each player represented by their ‘playerID’ made each year from 2007-2016. We used this variable to create a new variable called ‘quartile’ where we broke up the salaries of players into 4 groups (lowest salary to highest salary quartiles) that we found useful for further analysis on statistics.  The ‘G_all’ variable shows how many times a player appeared in a game in a year. \n",
    "   ####    From all of this data, we were able to create a way to evaluate hitting attributes and how they tell a story about salaries in baseball.\n"
   ]
  },
  {
   "cell_type": "code",
   "execution_count": 1,
   "metadata": {},
   "outputs": [],
   "source": [
    "import numpy as np\n",
    "import pandas as pd\n",
    "import matplotlib.pyplot as plt\n",
    "import statsmodels.api as sm\n",
    "from statsmodels.formula.api import ols\n",
    "import statsmodels.formula.api as smf"
   ]
  },
  {
   "cell_type": "code",
   "execution_count": 2,
   "metadata": {},
   "outputs": [],
   "source": [
    "batting = pd.read_csv(\"Downloads/Stats 131/baseballdatabank-2019.2/core/batting.csv\")\n",
    "salaries = pd.read_csv(\"Downloads/Stats 131/baseballdatabank-2019.2/core/Salaries.csv\")\n",
    "appear = pd.read_csv(\"Downloads/Stats 131/baseballdatabank-2019.2/core/Appearances.csv\")\n",
    "fielding = pd.read_csv(\"Downloads/Stats 131/baseballdatabank-2019.2/core/Fielding.csv\")"
   ]
  },
  {
   "cell_type": "code",
   "execution_count": 3,
   "metadata": {},
   "outputs": [],
   "source": [
    "#baseball = batting.merge(right = fielding, on=[\"yearID\", \"playerID\", \"teamID\", \"lgID\"])\n",
    "#baseball.head()"
   ]
  },
  {
   "cell_type": "code",
   "execution_count": 4,
   "metadata": {},
   "outputs": [
    {
     "data": {
      "text/html": [
       "<div>\n",
       "<style scoped>\n",
       "    .dataframe tbody tr th:only-of-type {\n",
       "        vertical-align: middle;\n",
       "    }\n",
       "\n",
       "    .dataframe tbody tr th {\n",
       "        vertical-align: top;\n",
       "    }\n",
       "\n",
       "    .dataframe thead th {\n",
       "        text-align: right;\n",
       "    }\n",
       "</style>\n",
       "<table border=\"1\" class=\"dataframe\">\n",
       "  <thead>\n",
       "    <tr style=\"text-align: right;\">\n",
       "      <th></th>\n",
       "      <th>playerID</th>\n",
       "      <th>yearID</th>\n",
       "      <th>stint</th>\n",
       "      <th>teamID</th>\n",
       "      <th>lgID</th>\n",
       "      <th>G</th>\n",
       "      <th>AB</th>\n",
       "      <th>R</th>\n",
       "      <th>H</th>\n",
       "      <th>2B</th>\n",
       "      <th>...</th>\n",
       "      <th>G_2b</th>\n",
       "      <th>G_3b</th>\n",
       "      <th>G_ss</th>\n",
       "      <th>G_lf</th>\n",
       "      <th>G_cf</th>\n",
       "      <th>G_rf</th>\n",
       "      <th>G_of</th>\n",
       "      <th>G_dh</th>\n",
       "      <th>G_ph</th>\n",
       "      <th>G_pr</th>\n",
       "    </tr>\n",
       "  </thead>\n",
       "  <tbody>\n",
       "    <tr>\n",
       "      <th>0</th>\n",
       "      <td>abercda01</td>\n",
       "      <td>1871</td>\n",
       "      <td>1</td>\n",
       "      <td>TRO</td>\n",
       "      <td>NaN</td>\n",
       "      <td>1</td>\n",
       "      <td>4</td>\n",
       "      <td>0</td>\n",
       "      <td>0</td>\n",
       "      <td>0</td>\n",
       "      <td>...</td>\n",
       "      <td>0</td>\n",
       "      <td>0</td>\n",
       "      <td>1</td>\n",
       "      <td>0</td>\n",
       "      <td>0</td>\n",
       "      <td>0</td>\n",
       "      <td>0</td>\n",
       "      <td>0.0</td>\n",
       "      <td>0.0</td>\n",
       "      <td>0.0</td>\n",
       "    </tr>\n",
       "    <tr>\n",
       "      <th>1</th>\n",
       "      <td>addybo01</td>\n",
       "      <td>1871</td>\n",
       "      <td>1</td>\n",
       "      <td>RC1</td>\n",
       "      <td>NaN</td>\n",
       "      <td>25</td>\n",
       "      <td>118</td>\n",
       "      <td>30</td>\n",
       "      <td>32</td>\n",
       "      <td>6</td>\n",
       "      <td>...</td>\n",
       "      <td>22</td>\n",
       "      <td>0</td>\n",
       "      <td>3</td>\n",
       "      <td>0</td>\n",
       "      <td>0</td>\n",
       "      <td>0</td>\n",
       "      <td>0</td>\n",
       "      <td>0.0</td>\n",
       "      <td>0.0</td>\n",
       "      <td>0.0</td>\n",
       "    </tr>\n",
       "    <tr>\n",
       "      <th>2</th>\n",
       "      <td>allisar01</td>\n",
       "      <td>1871</td>\n",
       "      <td>1</td>\n",
       "      <td>CL1</td>\n",
       "      <td>NaN</td>\n",
       "      <td>29</td>\n",
       "      <td>137</td>\n",
       "      <td>28</td>\n",
       "      <td>40</td>\n",
       "      <td>4</td>\n",
       "      <td>...</td>\n",
       "      <td>2</td>\n",
       "      <td>0</td>\n",
       "      <td>0</td>\n",
       "      <td>0</td>\n",
       "      <td>29</td>\n",
       "      <td>0</td>\n",
       "      <td>29</td>\n",
       "      <td>0.0</td>\n",
       "      <td>0.0</td>\n",
       "      <td>0.0</td>\n",
       "    </tr>\n",
       "    <tr>\n",
       "      <th>3</th>\n",
       "      <td>allisdo01</td>\n",
       "      <td>1871</td>\n",
       "      <td>1</td>\n",
       "      <td>WS3</td>\n",
       "      <td>NaN</td>\n",
       "      <td>27</td>\n",
       "      <td>133</td>\n",
       "      <td>28</td>\n",
       "      <td>44</td>\n",
       "      <td>10</td>\n",
       "      <td>...</td>\n",
       "      <td>0</td>\n",
       "      <td>0</td>\n",
       "      <td>0</td>\n",
       "      <td>0</td>\n",
       "      <td>0</td>\n",
       "      <td>0</td>\n",
       "      <td>0</td>\n",
       "      <td>0.0</td>\n",
       "      <td>0.0</td>\n",
       "      <td>0.0</td>\n",
       "    </tr>\n",
       "    <tr>\n",
       "      <th>4</th>\n",
       "      <td>ansonca01</td>\n",
       "      <td>1871</td>\n",
       "      <td>1</td>\n",
       "      <td>RC1</td>\n",
       "      <td>NaN</td>\n",
       "      <td>25</td>\n",
       "      <td>120</td>\n",
       "      <td>29</td>\n",
       "      <td>39</td>\n",
       "      <td>11</td>\n",
       "      <td>...</td>\n",
       "      <td>2</td>\n",
       "      <td>20</td>\n",
       "      <td>0</td>\n",
       "      <td>1</td>\n",
       "      <td>0</td>\n",
       "      <td>0</td>\n",
       "      <td>1</td>\n",
       "      <td>0.0</td>\n",
       "      <td>0.0</td>\n",
       "      <td>0.0</td>\n",
       "    </tr>\n",
       "  </tbody>\n",
       "</table>\n",
       "<p>5 rows × 39 columns</p>\n",
       "</div>"
      ],
      "text/plain": [
       "    playerID  yearID  stint teamID lgID   G   AB   R   H  2B  ...  G_2b  G_3b  \\\n",
       "0  abercda01    1871      1    TRO  NaN   1    4   0   0   0  ...     0     0   \n",
       "1   addybo01    1871      1    RC1  NaN  25  118  30  32   6  ...    22     0   \n",
       "2  allisar01    1871      1    CL1  NaN  29  137  28  40   4  ...     2     0   \n",
       "3  allisdo01    1871      1    WS3  NaN  27  133  28  44  10  ...     0     0   \n",
       "4  ansonca01    1871      1    RC1  NaN  25  120  29  39  11  ...     2    20   \n",
       "\n",
       "   G_ss  G_lf  G_cf  G_rf  G_of  G_dh  G_ph  G_pr  \n",
       "0     1     0     0     0     0   0.0   0.0   0.0  \n",
       "1     3     0     0     0     0   0.0   0.0   0.0  \n",
       "2     0     0    29     0    29   0.0   0.0   0.0  \n",
       "3     0     0     0     0     0   0.0   0.0   0.0  \n",
       "4     0     1     0     0     1   0.0   0.0   0.0  \n",
       "\n",
       "[5 rows x 39 columns]"
      ]
     },
     "execution_count": 4,
     "metadata": {},
     "output_type": "execute_result"
    }
   ],
   "source": [
    "baseball = batting.merge(right = appear, on=[\"yearID\", \"playerID\", \"teamID\", \"lgID\"])\n",
    "baseball.head()"
   ]
  },
  {
   "cell_type": "code",
   "execution_count": 5,
   "metadata": {},
   "outputs": [
    {
     "data": {
      "text/html": [
       "<div>\n",
       "<style scoped>\n",
       "    .dataframe tbody tr th:only-of-type {\n",
       "        vertical-align: middle;\n",
       "    }\n",
       "\n",
       "    .dataframe tbody tr th {\n",
       "        vertical-align: top;\n",
       "    }\n",
       "\n",
       "    .dataframe thead th {\n",
       "        text-align: right;\n",
       "    }\n",
       "</style>\n",
       "<table border=\"1\" class=\"dataframe\">\n",
       "  <thead>\n",
       "    <tr style=\"text-align: right;\">\n",
       "      <th></th>\n",
       "      <th>playerID</th>\n",
       "      <th>yearID</th>\n",
       "      <th>stint</th>\n",
       "      <th>teamID</th>\n",
       "      <th>lgID</th>\n",
       "      <th>G</th>\n",
       "      <th>AB</th>\n",
       "      <th>R</th>\n",
       "      <th>H</th>\n",
       "      <th>2B</th>\n",
       "      <th>...</th>\n",
       "      <th>G_3b</th>\n",
       "      <th>G_ss</th>\n",
       "      <th>G_lf</th>\n",
       "      <th>G_cf</th>\n",
       "      <th>G_rf</th>\n",
       "      <th>G_of</th>\n",
       "      <th>G_dh</th>\n",
       "      <th>G_ph</th>\n",
       "      <th>G_pr</th>\n",
       "      <th>salary</th>\n",
       "    </tr>\n",
       "  </thead>\n",
       "  <tbody>\n",
       "    <tr>\n",
       "      <th>0</th>\n",
       "      <td>ackerji01</td>\n",
       "      <td>1985</td>\n",
       "      <td>1</td>\n",
       "      <td>TOR</td>\n",
       "      <td>AL</td>\n",
       "      <td>61</td>\n",
       "      <td>0</td>\n",
       "      <td>0</td>\n",
       "      <td>0</td>\n",
       "      <td>0</td>\n",
       "      <td>...</td>\n",
       "      <td>0</td>\n",
       "      <td>0</td>\n",
       "      <td>0</td>\n",
       "      <td>0</td>\n",
       "      <td>0</td>\n",
       "      <td>0</td>\n",
       "      <td>0.0</td>\n",
       "      <td>0.0</td>\n",
       "      <td>0.0</td>\n",
       "      <td>170000</td>\n",
       "    </tr>\n",
       "    <tr>\n",
       "      <th>1</th>\n",
       "      <td>agostju01</td>\n",
       "      <td>1985</td>\n",
       "      <td>1</td>\n",
       "      <td>CHA</td>\n",
       "      <td>AL</td>\n",
       "      <td>54</td>\n",
       "      <td>0</td>\n",
       "      <td>0</td>\n",
       "      <td>0</td>\n",
       "      <td>0</td>\n",
       "      <td>...</td>\n",
       "      <td>0</td>\n",
       "      <td>0</td>\n",
       "      <td>0</td>\n",
       "      <td>0</td>\n",
       "      <td>0</td>\n",
       "      <td>0</td>\n",
       "      <td>0.0</td>\n",
       "      <td>0.0</td>\n",
       "      <td>0.0</td>\n",
       "      <td>147500</td>\n",
       "    </tr>\n",
       "    <tr>\n",
       "      <th>2</th>\n",
       "      <td>aguaylu01</td>\n",
       "      <td>1985</td>\n",
       "      <td>1</td>\n",
       "      <td>PHI</td>\n",
       "      <td>NL</td>\n",
       "      <td>91</td>\n",
       "      <td>165</td>\n",
       "      <td>27</td>\n",
       "      <td>46</td>\n",
       "      <td>7</td>\n",
       "      <td>...</td>\n",
       "      <td>7</td>\n",
       "      <td>60</td>\n",
       "      <td>0</td>\n",
       "      <td>0</td>\n",
       "      <td>0</td>\n",
       "      <td>0</td>\n",
       "      <td>0.0</td>\n",
       "      <td>11.0</td>\n",
       "      <td>9.0</td>\n",
       "      <td>237000</td>\n",
       "    </tr>\n",
       "    <tr>\n",
       "      <th>3</th>\n",
       "      <td>alexado01</td>\n",
       "      <td>1985</td>\n",
       "      <td>1</td>\n",
       "      <td>TOR</td>\n",
       "      <td>AL</td>\n",
       "      <td>36</td>\n",
       "      <td>0</td>\n",
       "      <td>0</td>\n",
       "      <td>0</td>\n",
       "      <td>0</td>\n",
       "      <td>...</td>\n",
       "      <td>0</td>\n",
       "      <td>0</td>\n",
       "      <td>0</td>\n",
       "      <td>0</td>\n",
       "      <td>0</td>\n",
       "      <td>0</td>\n",
       "      <td>0.0</td>\n",
       "      <td>0.0</td>\n",
       "      <td>0.0</td>\n",
       "      <td>875000</td>\n",
       "    </tr>\n",
       "    <tr>\n",
       "      <th>4</th>\n",
       "      <td>allenne01</td>\n",
       "      <td>1985</td>\n",
       "      <td>1</td>\n",
       "      <td>SLN</td>\n",
       "      <td>NL</td>\n",
       "      <td>23</td>\n",
       "      <td>2</td>\n",
       "      <td>0</td>\n",
       "      <td>0</td>\n",
       "      <td>0</td>\n",
       "      <td>...</td>\n",
       "      <td>0</td>\n",
       "      <td>0</td>\n",
       "      <td>0</td>\n",
       "      <td>0</td>\n",
       "      <td>0</td>\n",
       "      <td>0</td>\n",
       "      <td>0.0</td>\n",
       "      <td>0.0</td>\n",
       "      <td>0.0</td>\n",
       "      <td>750000</td>\n",
       "    </tr>\n",
       "  </tbody>\n",
       "</table>\n",
       "<p>5 rows × 40 columns</p>\n",
       "</div>"
      ],
      "text/plain": [
       "    playerID  yearID  stint teamID lgID   G   AB   R   H  2B  ...  G_3b  G_ss  \\\n",
       "0  ackerji01    1985      1    TOR   AL  61    0   0   0   0  ...     0     0   \n",
       "1  agostju01    1985      1    CHA   AL  54    0   0   0   0  ...     0     0   \n",
       "2  aguaylu01    1985      1    PHI   NL  91  165  27  46   7  ...     7    60   \n",
       "3  alexado01    1985      1    TOR   AL  36    0   0   0   0  ...     0     0   \n",
       "4  allenne01    1985      1    SLN   NL  23    2   0   0   0  ...     0     0   \n",
       "\n",
       "   G_lf  G_cf  G_rf  G_of  G_dh  G_ph  G_pr  salary  \n",
       "0     0     0     0     0   0.0   0.0   0.0  170000  \n",
       "1     0     0     0     0   0.0   0.0   0.0  147500  \n",
       "2     0     0     0     0   0.0  11.0   9.0  237000  \n",
       "3     0     0     0     0   0.0   0.0   0.0  875000  \n",
       "4     0     0     0     0   0.0   0.0   0.0  750000  \n",
       "\n",
       "[5 rows x 40 columns]"
      ]
     },
     "execution_count": 5,
     "metadata": {},
     "output_type": "execute_result"
    }
   ],
   "source": [
    "baseball = baseball.merge(right = salaries, on=[\"yearID\", \"playerID\", \"teamID\", \"lgID\"])\n",
    "baseball.head()"
   ]
  },
  {
   "cell_type": "code",
   "execution_count": 6,
   "metadata": {},
   "outputs": [
    {
     "data": {
      "text/html": [
       "<div>\n",
       "<style scoped>\n",
       "    .dataframe tbody tr th:only-of-type {\n",
       "        vertical-align: middle;\n",
       "    }\n",
       "\n",
       "    .dataframe tbody tr th {\n",
       "        vertical-align: top;\n",
       "    }\n",
       "\n",
       "    .dataframe thead th {\n",
       "        text-align: right;\n",
       "    }\n",
       "</style>\n",
       "<table border=\"1\" class=\"dataframe\">\n",
       "  <thead>\n",
       "    <tr style=\"text-align: right;\">\n",
       "      <th></th>\n",
       "      <th>playerID</th>\n",
       "      <th>yearID</th>\n",
       "      <th>stint</th>\n",
       "      <th>teamID</th>\n",
       "      <th>lgID</th>\n",
       "      <th>G</th>\n",
       "      <th>AB</th>\n",
       "      <th>R</th>\n",
       "      <th>H</th>\n",
       "      <th>2B</th>\n",
       "      <th>...</th>\n",
       "      <th>G_3b</th>\n",
       "      <th>G_ss</th>\n",
       "      <th>G_lf</th>\n",
       "      <th>G_cf</th>\n",
       "      <th>G_rf</th>\n",
       "      <th>G_of</th>\n",
       "      <th>G_dh</th>\n",
       "      <th>G_ph</th>\n",
       "      <th>G_pr</th>\n",
       "      <th>salary</th>\n",
       "    </tr>\n",
       "  </thead>\n",
       "  <tbody>\n",
       "    <tr>\n",
       "      <th>17394</th>\n",
       "      <td>aardsda01</td>\n",
       "      <td>2007</td>\n",
       "      <td>1</td>\n",
       "      <td>CHA</td>\n",
       "      <td>AL</td>\n",
       "      <td>25</td>\n",
       "      <td>0</td>\n",
       "      <td>0</td>\n",
       "      <td>0</td>\n",
       "      <td>0</td>\n",
       "      <td>...</td>\n",
       "      <td>0</td>\n",
       "      <td>0</td>\n",
       "      <td>0</td>\n",
       "      <td>0</td>\n",
       "      <td>0</td>\n",
       "      <td>0</td>\n",
       "      <td>0.0</td>\n",
       "      <td>0.0</td>\n",
       "      <td>0.0</td>\n",
       "      <td>387500</td>\n",
       "    </tr>\n",
       "    <tr>\n",
       "      <th>17395</th>\n",
       "      <td>abreubo01</td>\n",
       "      <td>2007</td>\n",
       "      <td>1</td>\n",
       "      <td>NYA</td>\n",
       "      <td>AL</td>\n",
       "      <td>158</td>\n",
       "      <td>605</td>\n",
       "      <td>123</td>\n",
       "      <td>171</td>\n",
       "      <td>40</td>\n",
       "      <td>...</td>\n",
       "      <td>0</td>\n",
       "      <td>0</td>\n",
       "      <td>0</td>\n",
       "      <td>0</td>\n",
       "      <td>157</td>\n",
       "      <td>157</td>\n",
       "      <td>1.0</td>\n",
       "      <td>4.0</td>\n",
       "      <td>1.0</td>\n",
       "      <td>15000000</td>\n",
       "    </tr>\n",
       "    <tr>\n",
       "      <th>17396</th>\n",
       "      <td>accarje01</td>\n",
       "      <td>2007</td>\n",
       "      <td>1</td>\n",
       "      <td>TOR</td>\n",
       "      <td>AL</td>\n",
       "      <td>64</td>\n",
       "      <td>0</td>\n",
       "      <td>0</td>\n",
       "      <td>0</td>\n",
       "      <td>0</td>\n",
       "      <td>...</td>\n",
       "      <td>0</td>\n",
       "      <td>0</td>\n",
       "      <td>0</td>\n",
       "      <td>0</td>\n",
       "      <td>0</td>\n",
       "      <td>0</td>\n",
       "      <td>0.0</td>\n",
       "      <td>0.0</td>\n",
       "      <td>0.0</td>\n",
       "      <td>392200</td>\n",
       "    </tr>\n",
       "    <tr>\n",
       "      <th>17397</th>\n",
       "      <td>affelje01</td>\n",
       "      <td>2007</td>\n",
       "      <td>1</td>\n",
       "      <td>COL</td>\n",
       "      <td>NL</td>\n",
       "      <td>75</td>\n",
       "      <td>0</td>\n",
       "      <td>0</td>\n",
       "      <td>0</td>\n",
       "      <td>0</td>\n",
       "      <td>...</td>\n",
       "      <td>0</td>\n",
       "      <td>0</td>\n",
       "      <td>0</td>\n",
       "      <td>0</td>\n",
       "      <td>0</td>\n",
       "      <td>0</td>\n",
       "      <td>0.0</td>\n",
       "      <td>0.0</td>\n",
       "      <td>0.0</td>\n",
       "      <td>1250000</td>\n",
       "    </tr>\n",
       "    <tr>\n",
       "      <th>17398</th>\n",
       "      <td>alfonan01</td>\n",
       "      <td>2007</td>\n",
       "      <td>1</td>\n",
       "      <td>PHI</td>\n",
       "      <td>NL</td>\n",
       "      <td>61</td>\n",
       "      <td>1</td>\n",
       "      <td>0</td>\n",
       "      <td>0</td>\n",
       "      <td>0</td>\n",
       "      <td>...</td>\n",
       "      <td>0</td>\n",
       "      <td>0</td>\n",
       "      <td>0</td>\n",
       "      <td>0</td>\n",
       "      <td>0</td>\n",
       "      <td>0</td>\n",
       "      <td>0.0</td>\n",
       "      <td>0.0</td>\n",
       "      <td>0.0</td>\n",
       "      <td>380000</td>\n",
       "    </tr>\n",
       "  </tbody>\n",
       "</table>\n",
       "<p>5 rows × 40 columns</p>\n",
       "</div>"
      ],
      "text/plain": [
       "        playerID  yearID  stint teamID lgID    G   AB    R    H  2B  ...  \\\n",
       "17394  aardsda01    2007      1    CHA   AL   25    0    0    0   0  ...   \n",
       "17395  abreubo01    2007      1    NYA   AL  158  605  123  171  40  ...   \n",
       "17396  accarje01    2007      1    TOR   AL   64    0    0    0   0  ...   \n",
       "17397  affelje01    2007      1    COL   NL   75    0    0    0   0  ...   \n",
       "17398  alfonan01    2007      1    PHI   NL   61    1    0    0   0  ...   \n",
       "\n",
       "       G_3b  G_ss  G_lf  G_cf  G_rf  G_of  G_dh  G_ph  G_pr    salary  \n",
       "17394     0     0     0     0     0     0   0.0   0.0   0.0    387500  \n",
       "17395     0     0     0     0   157   157   1.0   4.0   1.0  15000000  \n",
       "17396     0     0     0     0     0     0   0.0   0.0   0.0    392200  \n",
       "17397     0     0     0     0     0     0   0.0   0.0   0.0   1250000  \n",
       "17398     0     0     0     0     0     0   0.0   0.0   0.0    380000  \n",
       "\n",
       "[5 rows x 40 columns]"
      ]
     },
     "execution_count": 6,
     "metadata": {},
     "output_type": "execute_result"
    }
   ],
   "source": [
    "baseball = baseball.loc[baseball.yearID > 2006]\n",
    "baseball.head()\n"
   ]
  },
  {
   "cell_type": "code",
   "execution_count": 7,
   "metadata": {},
   "outputs": [],
   "source": [
    "#baseball = baseball.loc[baseball.POS !=  \"P\"]\n",
    "#baseball.shape"
   ]
  },
  {
   "cell_type": "code",
   "execution_count": 8,
   "metadata": {},
   "outputs": [
    {
     "data": {
      "text/plain": [
       "0.00      1.0\n",
       "0.25     30.0\n",
       "0.36     36.0\n",
       "0.50     60.0\n",
       "0.60     72.0\n",
       "0.75    108.0\n",
       "1.00    163.0\n",
       "Name: G_all, dtype: float64"
      ]
     },
     "execution_count": 8,
     "metadata": {},
     "output_type": "execute_result"
    }
   ],
   "source": [
    "baseball['G_all'].quantile([0,.25,0.36,.5,0.6,.75,1])"
   ]
  },
  {
   "cell_type": "code",
   "execution_count": 9,
   "metadata": {},
   "outputs": [
    {
     "data": {
      "text/plain": [
       "(2214, 40)"
      ]
     },
     "execution_count": 9,
     "metadata": {},
     "output_type": "execute_result"
    }
   ],
   "source": [
    "baseball = baseball.loc[baseball.G_all >= 102]\n",
    "baseball.shape"
   ]
  },
  {
   "cell_type": "code",
   "execution_count": 10,
   "metadata": {},
   "outputs": [],
   "source": [
    "baseball['salary'].quantile([.25,.5,.75,1])\n",
    "Q1 = baseball['salary'].quantile([.25,.5,.75,1])[0.25]\n",
    "Q2 = baseball['salary'].quantile([.25,.5,.75,1])[0.5]\n",
    "Q3 = baseball['salary'].quantile([.25,.5,.75,1])[0.75]\n",
    "Q4 = baseball['salary'].quantile([.25,.5,.75,1])[1]\n",
    "\n"
   ]
  },
  {
   "cell_type": "code",
   "execution_count": 11,
   "metadata": {},
   "outputs": [
    {
     "data": {
      "text/html": [
       "<div>\n",
       "<style scoped>\n",
       "    .dataframe tbody tr th:only-of-type {\n",
       "        vertical-align: middle;\n",
       "    }\n",
       "\n",
       "    .dataframe tbody tr th {\n",
       "        vertical-align: top;\n",
       "    }\n",
       "\n",
       "    .dataframe thead th {\n",
       "        text-align: right;\n",
       "    }\n",
       "</style>\n",
       "<table border=\"1\" class=\"dataframe\">\n",
       "  <thead>\n",
       "    <tr style=\"text-align: right;\">\n",
       "      <th></th>\n",
       "      <th>playerID</th>\n",
       "      <th>yearID</th>\n",
       "      <th>stint</th>\n",
       "      <th>teamID</th>\n",
       "      <th>lgID</th>\n",
       "      <th>G</th>\n",
       "      <th>AB</th>\n",
       "      <th>R</th>\n",
       "      <th>H</th>\n",
       "      <th>2B</th>\n",
       "      <th>...</th>\n",
       "      <th>G_pr</th>\n",
       "      <th>salary</th>\n",
       "      <th>BA</th>\n",
       "      <th>HRAB</th>\n",
       "      <th>TRAB</th>\n",
       "      <th>DOAB</th>\n",
       "      <th>RBIAB</th>\n",
       "      <th>BBAB</th>\n",
       "      <th>SOAB</th>\n",
       "      <th>quartile</th>\n",
       "    </tr>\n",
       "  </thead>\n",
       "  <tbody>\n",
       "    <tr>\n",
       "      <th>0</th>\n",
       "      <td>abreubo01</td>\n",
       "      <td>2007</td>\n",
       "      <td>1</td>\n",
       "      <td>NYA</td>\n",
       "      <td>AL</td>\n",
       "      <td>158</td>\n",
       "      <td>605</td>\n",
       "      <td>123</td>\n",
       "      <td>171</td>\n",
       "      <td>40</td>\n",
       "      <td>...</td>\n",
       "      <td>1.0</td>\n",
       "      <td>15000000</td>\n",
       "      <td>0.282645</td>\n",
       "      <td>0.026446</td>\n",
       "      <td>0.008264</td>\n",
       "      <td>0.066116</td>\n",
       "      <td>0.166942</td>\n",
       "      <td>0.138843</td>\n",
       "      <td>0.190083</td>\n",
       "      <td>4</td>\n",
       "    </tr>\n",
       "    <tr>\n",
       "      <th>1</th>\n",
       "      <td>amezaal01</td>\n",
       "      <td>2007</td>\n",
       "      <td>1</td>\n",
       "      <td>FLO</td>\n",
       "      <td>NL</td>\n",
       "      <td>133</td>\n",
       "      <td>400</td>\n",
       "      <td>46</td>\n",
       "      <td>105</td>\n",
       "      <td>14</td>\n",
       "      <td>...</td>\n",
       "      <td>6.0</td>\n",
       "      <td>380000</td>\n",
       "      <td>0.262500</td>\n",
       "      <td>0.005000</td>\n",
       "      <td>0.022500</td>\n",
       "      <td>0.035000</td>\n",
       "      <td>0.075000</td>\n",
       "      <td>0.087500</td>\n",
       "      <td>0.130000</td>\n",
       "      <td>1</td>\n",
       "    </tr>\n",
       "    <tr>\n",
       "      <th>2</th>\n",
       "      <td>anderga01</td>\n",
       "      <td>2007</td>\n",
       "      <td>1</td>\n",
       "      <td>LAA</td>\n",
       "      <td>AL</td>\n",
       "      <td>108</td>\n",
       "      <td>417</td>\n",
       "      <td>67</td>\n",
       "      <td>124</td>\n",
       "      <td>31</td>\n",
       "      <td>...</td>\n",
       "      <td>0.0</td>\n",
       "      <td>11600000</td>\n",
       "      <td>0.297362</td>\n",
       "      <td>0.038369</td>\n",
       "      <td>0.002398</td>\n",
       "      <td>0.074341</td>\n",
       "      <td>0.191847</td>\n",
       "      <td>0.064748</td>\n",
       "      <td>0.129496</td>\n",
       "      <td>4</td>\n",
       "    </tr>\n",
       "    <tr>\n",
       "      <th>3</th>\n",
       "      <td>atkinga01</td>\n",
       "      <td>2007</td>\n",
       "      <td>1</td>\n",
       "      <td>COL</td>\n",
       "      <td>NL</td>\n",
       "      <td>157</td>\n",
       "      <td>605</td>\n",
       "      <td>83</td>\n",
       "      <td>182</td>\n",
       "      <td>35</td>\n",
       "      <td>...</td>\n",
       "      <td>0.0</td>\n",
       "      <td>400000</td>\n",
       "      <td>0.300826</td>\n",
       "      <td>0.041322</td>\n",
       "      <td>0.001653</td>\n",
       "      <td>0.057851</td>\n",
       "      <td>0.183471</td>\n",
       "      <td>0.110744</td>\n",
       "      <td>0.158678</td>\n",
       "      <td>1</td>\n",
       "    </tr>\n",
       "    <tr>\n",
       "      <th>4</th>\n",
       "      <td>ausmubr01</td>\n",
       "      <td>2007</td>\n",
       "      <td>1</td>\n",
       "      <td>HOU</td>\n",
       "      <td>NL</td>\n",
       "      <td>117</td>\n",
       "      <td>349</td>\n",
       "      <td>38</td>\n",
       "      <td>82</td>\n",
       "      <td>16</td>\n",
       "      <td>...</td>\n",
       "      <td>1.0</td>\n",
       "      <td>4000000</td>\n",
       "      <td>0.234957</td>\n",
       "      <td>0.008596</td>\n",
       "      <td>0.008596</td>\n",
       "      <td>0.045845</td>\n",
       "      <td>0.071633</td>\n",
       "      <td>0.106017</td>\n",
       "      <td>0.212034</td>\n",
       "      <td>3</td>\n",
       "    </tr>\n",
       "  </tbody>\n",
       "</table>\n",
       "<p>5 rows × 48 columns</p>\n",
       "</div>"
      ],
      "text/plain": [
       "    playerID  yearID  stint teamID lgID    G   AB    R    H  2B  ...  G_pr  \\\n",
       "0  abreubo01    2007      1    NYA   AL  158  605  123  171  40  ...   1.0   \n",
       "1  amezaal01    2007      1    FLO   NL  133  400   46  105  14  ...   6.0   \n",
       "2  anderga01    2007      1    LAA   AL  108  417   67  124  31  ...   0.0   \n",
       "3  atkinga01    2007      1    COL   NL  157  605   83  182  35  ...   0.0   \n",
       "4  ausmubr01    2007      1    HOU   NL  117  349   38   82  16  ...   1.0   \n",
       "\n",
       "     salary        BA      HRAB      TRAB      DOAB     RBIAB      BBAB  \\\n",
       "0  15000000  0.282645  0.026446  0.008264  0.066116  0.166942  0.138843   \n",
       "1    380000  0.262500  0.005000  0.022500  0.035000  0.075000  0.087500   \n",
       "2  11600000  0.297362  0.038369  0.002398  0.074341  0.191847  0.064748   \n",
       "3    400000  0.300826  0.041322  0.001653  0.057851  0.183471  0.110744   \n",
       "4   4000000  0.234957  0.008596  0.008596  0.045845  0.071633  0.106017   \n",
       "\n",
       "       SOAB  quartile  \n",
       "0  0.190083         4  \n",
       "1  0.130000         1  \n",
       "2  0.129496         4  \n",
       "3  0.158678         1  \n",
       "4  0.212034         3  \n",
       "\n",
       "[5 rows x 48 columns]"
      ]
     },
     "execution_count": 11,
     "metadata": {},
     "output_type": "execute_result"
    }
   ],
   "source": [
    "baseball[\"BA\"] = baseball.H/baseball.AB\n",
    "baseball[\"HRAB\"] = baseball.HR/baseball.AB\n",
    "baseball[\"TRAB\"] = baseball[\"3B\"]/baseball.AB\n",
    "baseball[\"DOAB\"] = baseball[\"2B\"]/baseball.AB\n",
    "baseball[\"RBIAB\"] = baseball.RBI/baseball.AB\n",
    "baseball[\"BBAB\"] = baseball.BB/baseball.AB\n",
    "baseball[\"SOAB\"] = baseball.SO/baseball.AB\n",
    "baseball = baseball.reset_index(drop=True)\n",
    "quart = []\n",
    "for i in range(0,len(baseball.salary)):\n",
    "    if baseball.salary[i] <= Q1:\n",
    "        quart.append(1)\n",
    "    elif baseball.salary[i] <= Q2:\n",
    "        quart.append(2)\n",
    "    elif baseball.salary[i] <= Q3:\n",
    "        quart.append(3)\n",
    "    else:\n",
    "        quart.append(4)\n",
    "baseball[\"quartile\"] = quart\n",
    "baseball123 = baseball.loc[baseball.quartile <4]\n",
    "baseball12 = baseball.loc[baseball.quartile <3]\n",
    "baseball.head()\n"
   ]
  },
  {
   "cell_type": "code",
   "execution_count": 12,
   "metadata": {},
   "outputs": [
    {
     "name": "stdout",
     "output_type": "stream",
     "text": [
      "(554, 48)\n",
      "(550, 48)\n",
      "(554, 48)\n",
      "(556, 48)\n"
     ]
    }
   ],
   "source": [
    "baseball_1st = baseball.loc[baseball.salary <= Q1]\n",
    "baseball_2nd = baseball.loc[baseball.salary <= Q2].loc[baseball.salary > Q1]\n",
    "baseball_3rd = baseball.loc[baseball.salary <= Q3].loc[baseball.salary > Q2]\n",
    "baseball_4th = baseball.loc[baseball.salary > Q3 ]\n",
    "print(baseball_4th.shape)\n",
    "print(baseball_3rd.shape)\n",
    "print(baseball_2nd.shape)\n",
    "print(baseball_1st.shape)"
   ]
  },
  {
   "cell_type": "code",
   "execution_count": 13,
   "metadata": {},
   "outputs": [
    {
     "data": {
      "text/plain": [
       "(2214, 48)"
      ]
     },
     "execution_count": 13,
     "metadata": {},
     "output_type": "execute_result"
    }
   ],
   "source": [
    "baseball.shape"
   ]
  },
  {
   "cell_type": "code",
   "execution_count": 14,
   "metadata": {},
   "outputs": [
    {
     "data": {
      "image/png": "[encoded data removed]",
      "text/plain": [
       "<Figure size 432x288 with 1 Axes>"
      ]
     },
     "metadata": {
      "needs_background": "light"
     },
     "output_type": "display_data"
    }
   ],
   "source": [
    "objects = ('First Quartile', 'Second Quartile', 'Third Quartile', 'Fourth Quartile')\n",
    "y_pos = np.arange(len(objects))\n",
    "performance = [baseball_1st.HR.mean(),baseball_2nd.HR.mean(),baseball_3rd.HR.mean(),baseball_4th.HR.mean()]\n",
    "\n",
    "plt.bar(y_pos, performance, align='center', alpha=0.5)\n",
    "plt.xticks(y_pos, objects)\n",
    "plt.ylabel('Average Homeruns per Player')\n",
    "plt.title('Homerun Average per Salary Quartile')\n",
    "\n",
    "plt.show()\n"
   ]
  },
  {
   "cell_type": "code",
   "execution_count": 15,
   "metadata": {},
   "outputs": [
    {
     "data": {
      "text/html": [
       "<div>\n",
       "<style scoped>\n",
       "    .dataframe tbody tr th:only-of-type {\n",
       "        vertical-align: middle;\n",
       "    }\n",
       "\n",
       "    .dataframe tbody tr th {\n",
       "        vertical-align: top;\n",
       "    }\n",
       "\n",
       "    .dataframe thead th {\n",
       "        text-align: right;\n",
       "    }\n",
       "</style>\n",
       "<table border=\"1\" class=\"dataframe\">\n",
       "  <thead>\n",
       "    <tr style=\"text-align: right;\">\n",
       "      <th></th>\n",
       "      <th>Quartile</th>\n",
       "      <th>Homerun Average per Player</th>\n",
       "    </tr>\n",
       "  </thead>\n",
       "  <tbody>\n",
       "    <tr>\n",
       "      <th>0</th>\n",
       "      <td>1</td>\n",
       "      <td>12.899281</td>\n",
       "    </tr>\n",
       "    <tr>\n",
       "      <th>1</th>\n",
       "      <td>2</td>\n",
       "      <td>12.703971</td>\n",
       "    </tr>\n",
       "    <tr>\n",
       "      <th>2</th>\n",
       "      <td>3</td>\n",
       "      <td>15.938182</td>\n",
       "    </tr>\n",
       "    <tr>\n",
       "      <th>3</th>\n",
       "      <td>4</td>\n",
       "      <td>20.684116</td>\n",
       "    </tr>\n",
       "  </tbody>\n",
       "</table>\n",
       "</div>"
      ],
      "text/plain": [
       "   Quartile  Homerun Average per Player\n",
       "0         1                   12.899281\n",
       "1         2                   12.703971\n",
       "2         3                   15.938182\n",
       "3         4                   20.684116"
      ]
     },
     "execution_count": 15,
     "metadata": {},
     "output_type": "execute_result"
    }
   ],
   "source": [
    "d= {'Homerun Average per Player' : [baseball_1st.HR.mean(),baseball_2nd.HR.mean(),baseball_3rd.HR.mean(),baseball_4th.HR.mean()], 'Quartile':[1,2,3,4]}\n",
    "df2 =pd.DataFrame(d, columns=['Quartile', 'Homerun Average per Player'])\n",
    "df2  "
   ]
  },
  {
   "cell_type": "code",
   "execution_count": 16,
   "metadata": {},
   "outputs": [
    {
     "data": {
      "image/png": "[encoded data removed]",
      "text/plain": [
       "<Figure size 432x288 with 1 Axes>"
      ]
     },
     "metadata": {
      "needs_background": "light"
     },
     "output_type": "display_data"
    }
   ],
   "source": [
    "objects = ('First Quartile', 'Second Quartile', 'Third Quartile', 'Fourth Quartile')\n",
    "y_pos = np.arange(len(objects))\n",
    "performance = [baseball_1st.HR.median (),baseball_2nd.HR.median(),baseball_3rd.HR.median(),baseball_4th.HR.median()]\n",
    "\n",
    "plt.bar(y_pos, performance, align='center', alpha=0.5)\n",
    "plt.xticks(y_pos, objects)\n",
    "plt.ylabel('Median Homeruns per Quartile')\n",
    "plt.title('Homerun Median per Quartile')\n",
    "\n",
    "plt.show()"
   ]
  },
  {
   "cell_type": "code",
   "execution_count": 17,
   "metadata": {},
   "outputs": [
    {
     "data": {
      "text/html": [
       "<div>\n",
       "<style scoped>\n",
       "    .dataframe tbody tr th:only-of-type {\n",
       "        vertical-align: middle;\n",
       "    }\n",
       "\n",
       "    .dataframe tbody tr th {\n",
       "        vertical-align: top;\n",
       "    }\n",
       "\n",
       "    .dataframe thead th {\n",
       "        text-align: right;\n",
       "    }\n",
       "</style>\n",
       "<table border=\"1\" class=\"dataframe\">\n",
       "  <thead>\n",
       "    <tr style=\"text-align: right;\">\n",
       "      <th></th>\n",
       "      <th>Quartile</th>\n",
       "      <th>Homerun Median per Player</th>\n",
       "    </tr>\n",
       "  </thead>\n",
       "  <tbody>\n",
       "    <tr>\n",
       "      <th>0</th>\n",
       "      <td>1</td>\n",
       "      <td>12.0</td>\n",
       "    </tr>\n",
       "    <tr>\n",
       "      <th>1</th>\n",
       "      <td>2</td>\n",
       "      <td>11.0</td>\n",
       "    </tr>\n",
       "    <tr>\n",
       "      <th>2</th>\n",
       "      <td>3</td>\n",
       "      <td>14.0</td>\n",
       "    </tr>\n",
       "    <tr>\n",
       "      <th>3</th>\n",
       "      <td>4</td>\n",
       "      <td>20.0</td>\n",
       "    </tr>\n",
       "  </tbody>\n",
       "</table>\n",
       "</div>"
      ],
      "text/plain": [
       "   Quartile  Homerun Median per Player\n",
       "0         1                       12.0\n",
       "1         2                       11.0\n",
       "2         3                       14.0\n",
       "3         4                       20.0"
      ]
     },
     "execution_count": 17,
     "metadata": {},
     "output_type": "execute_result"
    }
   ],
   "source": [
    "d= {'Homerun Median per Player' : [baseball_1st.HR.median(),baseball_2nd.HR.median(),baseball_3rd.HR.median(),baseball_4th.HR.median()], 'Quartile':[1,2,3,4]}\n",
    "df2 =pd.DataFrame(d, columns=['Quartile', 'Homerun Median per Player'])\n",
    "df2  "
   ]
  },
  {
   "cell_type": "code",
   "execution_count": 18,
   "metadata": {},
   "outputs": [
    {
     "data": {
      "image/png": "[encoded data removed]",
      "text/plain": [
       "<Figure size 432x288 with 1 Axes>"
      ]
     },
     "metadata": {
      "needs_background": "light"
     },
     "output_type": "display_data"
    }
   ],
   "source": [
    "objects = ('First Quartile', 'Second Quartile', 'Third Quartile', 'Fourth Quartile')\n",
    "y_pos = np.arange(len(objects))\n",
    "performance = [baseball_1st.AB.mean(),baseball_2nd.AB.mean(),baseball_3rd.AB.mean(),baseball_4th.AB.mean()]\n",
    "\n",
    "\n",
    "\n",
    "\n",
    "plt.bar(y_pos, performance, align='center', alpha=0.5)\n",
    "plt.xticks(y_pos, objects)\n",
    "plt.ylabel('Average At Bats per Player')\n",
    "plt.title('At Bats per Salary Quartile')\n",
    "\n",
    "\n",
    "plt.show()"
   ]
  },
  {
   "cell_type": "code",
   "execution_count": 19,
   "metadata": {},
   "outputs": [
    {
     "data": {
      "text/html": [
       "<div>\n",
       "<style scoped>\n",
       "    .dataframe tbody tr th:only-of-type {\n",
       "        vertical-align: middle;\n",
       "    }\n",
       "\n",
       "    .dataframe tbody tr th {\n",
       "        vertical-align: top;\n",
       "    }\n",
       "\n",
       "    .dataframe thead th {\n",
       "        text-align: right;\n",
       "    }\n",
       "</style>\n",
       "<table border=\"1\" class=\"dataframe\">\n",
       "  <thead>\n",
       "    <tr style=\"text-align: right;\">\n",
       "      <th></th>\n",
       "      <th>Quartile</th>\n",
       "      <th>Average At Bats per Player</th>\n",
       "    </tr>\n",
       "  </thead>\n",
       "  <tbody>\n",
       "    <tr>\n",
       "      <th>0</th>\n",
       "      <td>1</td>\n",
       "      <td>445.760791</td>\n",
       "    </tr>\n",
       "    <tr>\n",
       "      <th>1</th>\n",
       "      <td>2</td>\n",
       "      <td>432.149819</td>\n",
       "    </tr>\n",
       "    <tr>\n",
       "      <th>2</th>\n",
       "      <td>3</td>\n",
       "      <td>494.612727</td>\n",
       "    </tr>\n",
       "    <tr>\n",
       "      <th>3</th>\n",
       "      <td>4</td>\n",
       "      <td>520.684116</td>\n",
       "    </tr>\n",
       "  </tbody>\n",
       "</table>\n",
       "</div>"
      ],
      "text/plain": [
       "   Quartile  Average At Bats per Player\n",
       "0         1                  445.760791\n",
       "1         2                  432.149819\n",
       "2         3                  494.612727\n",
       "3         4                  520.684116"
      ]
     },
     "execution_count": 19,
     "metadata": {},
     "output_type": "execute_result"
    }
   ],
   "source": [
    "d= {'Average At Bats per Player' : [baseball_1st.AB.mean(),baseball_2nd.AB.mean(),baseball_3rd.AB.mean(),baseball_4th.AB.mean()], 'Quartile':[1,2,3,4]}\n",
    "df2 =pd.DataFrame(d, columns=['Quartile', 'Average At Bats per Player'])\n",
    "df2  "
   ]
  },
  {
   "cell_type": "code",
   "execution_count": 20,
   "metadata": {},
   "outputs": [
    {
     "data": {
      "image/png": "[encoded data removed]",
      "text/plain": [
       "<Figure size 432x288 with 1 Axes>"
      ]
     },
     "metadata": {
      "needs_background": "light"
     },
     "output_type": "display_data"
    }
   ],
   "source": [
    "objects = ('First Quartile', 'Second Quartile', 'Third Quartile', 'Fourth Quartile')\n",
    "y_pos = np.arange(len(objects))\n",
    "performance = [baseball_1st.BA.median (),baseball_2nd.BA.median(),baseball_3rd.BA.median(),baseball_4th.BA.median()]\n",
    "\n",
    "plt.bar(y_pos, performance, align='center', alpha=0.5)\n",
    "plt.xticks(y_pos, objects)\n",
    "plt.ylabel('Batting Average Median per Player')\n",
    "plt.title('Batting Average Median per Quartile')\n",
    "\n",
    "plt.show()\n",
    "\n"
   ]
  },
  {
   "cell_type": "code",
   "execution_count": 21,
   "metadata": {},
   "outputs": [
    {
     "data": {
      "text/html": [
       "<div>\n",
       "<style scoped>\n",
       "    .dataframe tbody tr th:only-of-type {\n",
       "        vertical-align: middle;\n",
       "    }\n",
       "\n",
       "    .dataframe tbody tr th {\n",
       "        vertical-align: top;\n",
       "    }\n",
       "\n",
       "    .dataframe thead th {\n",
       "        text-align: right;\n",
       "    }\n",
       "</style>\n",
       "<table border=\"1\" class=\"dataframe\">\n",
       "  <thead>\n",
       "    <tr style=\"text-align: right;\">\n",
       "      <th></th>\n",
       "      <th>Quartile</th>\n",
       "      <th>Median Batting Average per Player</th>\n",
       "    </tr>\n",
       "  </thead>\n",
       "  <tbody>\n",
       "    <tr>\n",
       "      <th>0</th>\n",
       "      <td>1</td>\n",
       "      <td>0.264039</td>\n",
       "    </tr>\n",
       "    <tr>\n",
       "      <th>1</th>\n",
       "      <td>2</td>\n",
       "      <td>0.260613</td>\n",
       "    </tr>\n",
       "    <tr>\n",
       "      <th>2</th>\n",
       "      <td>3</td>\n",
       "      <td>0.268216</td>\n",
       "    </tr>\n",
       "    <tr>\n",
       "      <th>3</th>\n",
       "      <td>4</td>\n",
       "      <td>0.275379</td>\n",
       "    </tr>\n",
       "  </tbody>\n",
       "</table>\n",
       "</div>"
      ],
      "text/plain": [
       "   Quartile  Median Batting Average per Player\n",
       "0         1                           0.264039\n",
       "1         2                           0.260613\n",
       "2         3                           0.268216\n",
       "3         4                           0.275379"
      ]
     },
     "execution_count": 21,
     "metadata": {},
     "output_type": "execute_result"
    }
   ],
   "source": [
    "d= {'Median Batting Average per Player' : [baseball_1st.BA.median(),baseball_2nd.BA.median(),baseball_3rd.BA.median(),baseball_4th.BA.median()], 'Quartile':[1,2,3,4]}\n",
    "df2 =pd.DataFrame(d, columns=['Quartile', 'Median Batting Average per Player'])\n",
    "df2  "
   ]
  },
  {
   "cell_type": "code",
   "execution_count": 22,
   "metadata": {},
   "outputs": [
    {
     "data": {
      "image/png": "[encoded data removed]",
      "text/plain": [
       "<Figure size 432x288 with 1 Axes>"
      ]
     },
     "metadata": {
      "needs_background": "light"
     },
     "output_type": "display_data"
    }
   ],
   "source": [
    "objects = ('First Quartile', 'Second Quartile', 'Third Quartile', 'Fourth Quartile')\n",
    "y_pos = np.arange(len(objects))\n",
    "performance = [baseball_1st.BA.mean(),baseball_2nd.BA.mean(),baseball_3rd.BA.mean(),baseball_4th.BA.mean()]\n",
    "\n",
    "plt.bar(y_pos, performance, align='center', alpha=0.5)\n",
    "plt.xticks(y_pos, objects)\n",
    "plt.ylabel('Batting Average Mean per Player')\n",
    "plt.title('Batting Average per Salary Quartile')\n",
    "\n",
    "plt.show()"
   ]
  },
  {
   "cell_type": "code",
   "execution_count": 23,
   "metadata": {},
   "outputs": [
    {
     "data": {
      "text/html": [
       "<div>\n",
       "<style scoped>\n",
       "    .dataframe tbody tr th:only-of-type {\n",
       "        vertical-align: middle;\n",
       "    }\n",
       "\n",
       "    .dataframe tbody tr th {\n",
       "        vertical-align: top;\n",
       "    }\n",
       "\n",
       "    .dataframe thead th {\n",
       "        text-align: right;\n",
       "    }\n",
       "</style>\n",
       "<table border=\"1\" class=\"dataframe\">\n",
       "  <thead>\n",
       "    <tr style=\"text-align: right;\">\n",
       "      <th></th>\n",
       "      <th>Quartile</th>\n",
       "      <th>Mean Batting Average per Player</th>\n",
       "    </tr>\n",
       "  </thead>\n",
       "  <tbody>\n",
       "    <tr>\n",
       "      <th>0</th>\n",
       "      <td>1</td>\n",
       "      <td>0.264046</td>\n",
       "    </tr>\n",
       "    <tr>\n",
       "      <th>1</th>\n",
       "      <td>2</td>\n",
       "      <td>0.261988</td>\n",
       "    </tr>\n",
       "    <tr>\n",
       "      <th>2</th>\n",
       "      <td>3</td>\n",
       "      <td>0.267234</td>\n",
       "    </tr>\n",
       "    <tr>\n",
       "      <th>3</th>\n",
       "      <td>4</td>\n",
       "      <td>0.275119</td>\n",
       "    </tr>\n",
       "  </tbody>\n",
       "</table>\n",
       "</div>"
      ],
      "text/plain": [
       "   Quartile  Mean Batting Average per Player\n",
       "0         1                         0.264046\n",
       "1         2                         0.261988\n",
       "2         3                         0.267234\n",
       "3         4                         0.275119"
      ]
     },
     "execution_count": 23,
     "metadata": {},
     "output_type": "execute_result"
    }
   ],
   "source": [
    "d= {'Mean Batting Average per Player' : [baseball_1st.BA.mean(),baseball_2nd.BA.mean(),baseball_3rd.BA.mean(),baseball_4th.BA.mean()], 'Quartile':[1,2,3,4]}\n",
    "df2 =pd.DataFrame(d, columns=['Quartile', 'Mean Batting Average per Player'])\n",
    "df2                 "
   ]
  },
  {
   "cell_type": "code",
   "execution_count": 24,
   "metadata": {},
   "outputs": [
    {
     "name": "stdout",
     "output_type": "stream",
     "text": [
      "            sum_sq      df          F        PR(>F)\n",
      "quartile  0.041001     1.0  48.347717  4.681239e-12\n",
      "Residual  1.875858  2212.0        NaN           NaN\n"
     ]
    }
   ],
   "source": [
    "model = ols('BA ~ quartile', data = baseball).fit()\n",
    "aov = sm.stats.anova_lm(model, typ=2)\n",
    "print(aov)"
   ]
  },
  {
   "cell_type": "code",
   "execution_count": 25,
   "metadata": {},
   "outputs": [
    {
     "name": "stdout",
     "output_type": "stream",
     "text": [
      "            sum_sq      df         F    PR(>F)\n",
      "quartile  0.002788     1.0  3.467913  0.062747\n",
      "Residual  1.332912  1658.0       NaN       NaN\n"
     ]
    }
   ],
   "source": [
    "model = ols('BA ~ quartile', data = baseball123).fit()\n",
    "aov = sm.stats.anova_lm(model, typ=2)\n",
    "print(aov) "
   ]
  },
  {
   "cell_type": "code",
   "execution_count": 26,
   "metadata": {},
   "outputs": [
    {
     "name": "stdout",
     "output_type": "stream",
     "text": [
      "            sum_sq      df         F   PR(>F)\n",
      "quartile  0.001175     1.0  1.500404  0.22087\n",
      "Residual  0.867999  1108.0       NaN      NaN\n"
     ]
    }
   ],
   "source": [
    "model = ols('BA ~ quartile', data = baseball12).fit()\n",
    "aov = sm.stats.anova_lm(model, typ=2)\n",
    "print(aov) "
   ]
  },
  {
   "cell_type": "code",
   "execution_count": 27,
   "metadata": {},
   "outputs": [
    {
     "data": {
      "image/png": "[encoded data removed]",
      "text/plain": [
       "<Figure size 432x288 with 1 Axes>"
      ]
     },
     "metadata": {
      "needs_background": "light"
     },
     "output_type": "display_data"
    }
   ],
   "source": [
    "objects = ('First Quartile', 'Second Quartile', 'Third Quartile', 'Fourth Quartile')\n",
    "y_pos = np.arange(len(objects))\n",
    "performance = [baseball_1st.HRAB.mean(),baseball_2nd.HRAB.mean(),baseball_3rd.HRAB.mean(),baseball_4th.HRAB.mean()]\n",
    "\n",
    "plt.bar(y_pos, performance, align='center', alpha=0.5)\n",
    "plt.xticks(y_pos, objects)\n",
    "plt.ylabel('Homeruns per at bat per Player')\n",
    "plt.title('Homeruns per at bat per Quartile')\n",
    "\n",
    "plt.show()\n",
    "\n"
   ]
  },
  {
   "cell_type": "code",
   "execution_count": 28,
   "metadata": {},
   "outputs": [
    {
     "data": {
      "text/html": [
       "<div>\n",
       "<style scoped>\n",
       "    .dataframe tbody tr th:only-of-type {\n",
       "        vertical-align: middle;\n",
       "    }\n",
       "\n",
       "    .dataframe tbody tr th {\n",
       "        vertical-align: top;\n",
       "    }\n",
       "\n",
       "    .dataframe thead th {\n",
       "        text-align: right;\n",
       "    }\n",
       "</style>\n",
       "<table border=\"1\" class=\"dataframe\">\n",
       "  <thead>\n",
       "    <tr style=\"text-align: right;\">\n",
       "      <th></th>\n",
       "      <th>Quartile</th>\n",
       "      <th>Homeruns per At Bat per Player</th>\n",
       "    </tr>\n",
       "  </thead>\n",
       "  <tbody>\n",
       "    <tr>\n",
       "      <th>0</th>\n",
       "      <td>1</td>\n",
       "      <td>0.028238</td>\n",
       "    </tr>\n",
       "    <tr>\n",
       "      <th>1</th>\n",
       "      <td>2</td>\n",
       "      <td>0.028194</td>\n",
       "    </tr>\n",
       "    <tr>\n",
       "      <th>2</th>\n",
       "      <td>3</td>\n",
       "      <td>0.031889</td>\n",
       "    </tr>\n",
       "    <tr>\n",
       "      <th>3</th>\n",
       "      <td>4</td>\n",
       "      <td>0.039733</td>\n",
       "    </tr>\n",
       "  </tbody>\n",
       "</table>\n",
       "</div>"
      ],
      "text/plain": [
       "   Quartile  Homeruns per At Bat per Player\n",
       "0         1                        0.028238\n",
       "1         2                        0.028194\n",
       "2         3                        0.031889\n",
       "3         4                        0.039733"
      ]
     },
     "execution_count": 28,
     "metadata": {},
     "output_type": "execute_result"
    }
   ],
   "source": [
    "d= {'Homeruns per At Bat per Player' : [baseball_1st.HRAB.mean(),baseball_2nd.HRAB.mean(),baseball_3rd.HRAB.mean(),baseball_4th.HRAB.mean()], 'Quartile':[1,2,3,4]}\n",
    "df2 =pd.DataFrame(d, columns=['Quartile', 'Homeruns per At Bat per Player'])\n",
    "df2    "
   ]
  },
  {
   "cell_type": "code",
   "execution_count": 29,
   "metadata": {},
   "outputs": [
    {
     "name": "stdout",
     "output_type": "stream",
     "text": [
      "                 sum_sq      df           F        PR(>F)\n",
      "quartile   19596.370802     1.0  218.705479  2.903024e-47\n",
      "Residual  198198.840129  2212.0         NaN           NaN\n"
     ]
    }
   ],
   "source": [
    "model = ols('HR ~ quartile', data = baseball).fit()\n",
    "aov = sm.stats.anova_lm(model, typ=2)\n",
    "print(aov)"
   ]
  },
  {
   "cell_type": "code",
   "execution_count": 30,
   "metadata": {},
   "outputs": [
    {
     "name": "stdout",
     "output_type": "stream",
     "text": [
      "                 sum_sq      df          F        PR(>F)\n",
      "quartile    2542.981653     1.0  30.248173  4.395666e-08\n",
      "Residual  139389.032805  1658.0        NaN           NaN\n"
     ]
    }
   ],
   "source": [
    "model = ols('HR ~ quartile', data = baseball123).fit()\n",
    "aov = sm.stats.anova_lm(model, typ=2)\n",
    "print(aov) "
   ]
  },
  {
   "cell_type": "code",
   "execution_count": 31,
   "metadata": {},
   "outputs": [
    {
     "name": "stdout",
     "output_type": "stream",
     "text": [
      "                sum_sq      df         F    PR(>F)\n",
      "quartile     10.585421     1.0  0.127699  0.720898\n",
      "Residual  91845.810976  1108.0       NaN       NaN\n"
     ]
    }
   ],
   "source": [
    "model = ols('HR ~ quartile', data = baseball12).fit()\n",
    "aov = sm.stats.anova_lm(model, typ=2)\n",
    "print(aov) "
   ]
  },
  {
   "cell_type": "code",
   "execution_count": 32,
   "metadata": {},
   "outputs": [
    {
     "data": {
      "image/png": "[encoded data removed]",
      "text/plain": [
       "<Figure size 432x288 with 1 Axes>"
      ]
     },
     "metadata": {
      "needs_background": "light"
     },
     "output_type": "display_data"
    }
   ],
   "source": [
    "objects = ('First Quartile', 'Second Quartile', 'Third Quartile', 'Fourth Quartile')\n",
    "y_pos = np.arange(len(objects))\n",
    "performance = [baseball_1st.TRAB.mean(),baseball_2nd.TRAB.mean(),baseball_3rd.TRAB.mean(),baseball_4th.TRAB.mean()]\n",
    "\n",
    "plt.bar(y_pos, performance, align='center', alpha=0.5)\n",
    "plt.xticks(y_pos, objects)\n",
    "plt.ylabel('Triples per at bat per at bat per Player')\n",
    "plt.title('Triples per at bat per Quartile')\n",
    "\n",
    "plt.show()\n",
    "\n",
    "\n"
   ]
  },
  {
   "cell_type": "code",
   "execution_count": 33,
   "metadata": {},
   "outputs": [
    {
     "data": {
      "text/html": [
       "<div>\n",
       "<style scoped>\n",
       "    .dataframe tbody tr th:only-of-type {\n",
       "        vertical-align: middle;\n",
       "    }\n",
       "\n",
       "    .dataframe tbody tr th {\n",
       "        vertical-align: top;\n",
       "    }\n",
       "\n",
       "    .dataframe thead th {\n",
       "        text-align: right;\n",
       "    }\n",
       "</style>\n",
       "<table border=\"1\" class=\"dataframe\">\n",
       "  <thead>\n",
       "    <tr style=\"text-align: right;\">\n",
       "      <th></th>\n",
       "      <th>Quartile</th>\n",
       "      <th>Triples per At Bat per Player</th>\n",
       "    </tr>\n",
       "  </thead>\n",
       "  <tbody>\n",
       "    <tr>\n",
       "      <th>0</th>\n",
       "      <td>1</td>\n",
       "      <td>0.007036</td>\n",
       "    </tr>\n",
       "    <tr>\n",
       "      <th>1</th>\n",
       "      <td>2</td>\n",
       "      <td>0.005870</td>\n",
       "    </tr>\n",
       "    <tr>\n",
       "      <th>2</th>\n",
       "      <td>3</td>\n",
       "      <td>0.005182</td>\n",
       "    </tr>\n",
       "    <tr>\n",
       "      <th>3</th>\n",
       "      <td>4</td>\n",
       "      <td>0.003955</td>\n",
       "    </tr>\n",
       "  </tbody>\n",
       "</table>\n",
       "</div>"
      ],
      "text/plain": [
       "   Quartile  Triples per At Bat per Player\n",
       "0         1                       0.007036\n",
       "1         2                       0.005870\n",
       "2         3                       0.005182\n",
       "3         4                       0.003955"
      ]
     },
     "execution_count": 33,
     "metadata": {},
     "output_type": "execute_result"
    }
   ],
   "source": [
    "d= {'Triples per At Bat per Player' : [baseball_1st.TRAB.mean(),baseball_2nd.TRAB.mean(),baseball_3rd.TRAB.mean(),baseball_4th.TRAB.mean()], 'Quartile':[1,2,3,4]}\n",
    "df2 =pd.DataFrame(d, columns=['Quartile', 'Triples per At Bat per Player'])\n",
    "df2 "
   ]
  },
  {
   "cell_type": "code",
   "execution_count": 34,
   "metadata": {},
   "outputs": [
    {
     "name": "stdout",
     "output_type": "stream",
     "text": [
      "            sum_sq      df          F        PR(>F)\n",
      "quartile  0.002736     1.0  102.31627  1.525546e-23\n",
      "Residual  0.059159  2212.0        NaN           NaN\n"
     ]
    }
   ],
   "source": [
    "model = ols('TRAB ~ quartile', data = baseball).fit()\n",
    "aov = sm.stats.anova_lm(model, typ=2)\n",
    "print(aov)"
   ]
  },
  {
   "cell_type": "code",
   "execution_count": 35,
   "metadata": {},
   "outputs": [
    {
     "name": "stdout",
     "output_type": "stream",
     "text": [
      "            sum_sq      df          F        PR(>F)\n",
      "quartile  0.000952     1.0  31.944858  1.863830e-08\n",
      "Residual  0.049403  1658.0        NaN           NaN\n"
     ]
    }
   ],
   "source": [
    "model = ols('TRAB ~ quartile', data = baseball123).fit()\n",
    "aov = sm.stats.anova_lm(model, typ=2)\n",
    "print(aov) "
   ]
  },
  {
   "cell_type": "code",
   "execution_count": 36,
   "metadata": {},
   "outputs": [
    {
     "name": "stdout",
     "output_type": "stream",
     "text": [
      "            sum_sq      df          F   PR(>F)\n",
      "quartile  0.000377     1.0  11.694848  0.00065\n",
      "Residual  0.035751  1108.0        NaN      NaN\n"
     ]
    }
   ],
   "source": [
    "model = ols('TRAB ~ quartile', data = baseball12).fit()\n",
    "aov = sm.stats.anova_lm(model, typ=2)\n",
    "print(aov) "
   ]
  },
  {
   "cell_type": "code",
   "execution_count": 37,
   "metadata": {},
   "outputs": [
    {
     "data": {
      "image/png": "[encoded data removed]",
      "text/plain": [
       "<Figure size 432x288 with 1 Axes>"
      ]
     },
     "metadata": {
      "needs_background": "light"
     },
     "output_type": "display_data"
    }
   ],
   "source": [
    "objects = ('First Quartile', 'Second Quartile', 'Third Quartile', 'Fourth Quartile')\n",
    "y_pos = np.arange(len(objects))\n",
    "performance = [baseball_1st.DOAB.mean(),baseball_2nd.DOAB.mean(),baseball_3rd.DOAB.mean(),baseball_4th.DOAB.mean()]\n",
    "\n",
    "plt.bar(y_pos, performance, align='center', alpha=0.5)\n",
    "plt.xticks(y_pos, objects)\n",
    "plt.ylabel('Doubles per at bat per at bat per Player')\n",
    "plt.title('Doubles per at bat per Quartile')\n",
    "\n",
    "plt.show()\n",
    "\n",
    "\n"
   ]
  },
  {
   "cell_type": "code",
   "execution_count": 38,
   "metadata": {},
   "outputs": [
    {
     "data": {
      "text/html": [
       "<div>\n",
       "<style scoped>\n",
       "    .dataframe tbody tr th:only-of-type {\n",
       "        vertical-align: middle;\n",
       "    }\n",
       "\n",
       "    .dataframe tbody tr th {\n",
       "        vertical-align: top;\n",
       "    }\n",
       "\n",
       "    .dataframe thead th {\n",
       "        text-align: right;\n",
       "    }\n",
       "</style>\n",
       "<table border=\"1\" class=\"dataframe\">\n",
       "  <thead>\n",
       "    <tr style=\"text-align: right;\">\n",
       "      <th></th>\n",
       "      <th>Quartile</th>\n",
       "      <th>Doubles per At Bat per Player</th>\n",
       "    </tr>\n",
       "  </thead>\n",
       "  <tbody>\n",
       "    <tr>\n",
       "      <th>0</th>\n",
       "      <td>1</td>\n",
       "      <td>0.053315</td>\n",
       "    </tr>\n",
       "    <tr>\n",
       "      <th>1</th>\n",
       "      <td>2</td>\n",
       "      <td>0.051197</td>\n",
       "    </tr>\n",
       "    <tr>\n",
       "      <th>2</th>\n",
       "      <td>3</td>\n",
       "      <td>0.054296</td>\n",
       "    </tr>\n",
       "    <tr>\n",
       "      <th>3</th>\n",
       "      <td>4</td>\n",
       "      <td>0.055188</td>\n",
       "    </tr>\n",
       "  </tbody>\n",
       "</table>\n",
       "</div>"
      ],
      "text/plain": [
       "   Quartile  Doubles per At Bat per Player\n",
       "0         1                       0.053315\n",
       "1         2                       0.051197\n",
       "2         3                       0.054296\n",
       "3         4                       0.055188"
      ]
     },
     "execution_count": 38,
     "metadata": {},
     "output_type": "execute_result"
    }
   ],
   "source": [
    "d= {'Doubles per At Bat per Player' : [baseball_1st.DOAB.mean(),baseball_2nd.DOAB.mean(),baseball_3rd.DOAB.mean(),baseball_4th.DOAB.mean()], 'Quartile':[1,2,3,4]}\n",
    "df2 =pd.DataFrame(d, columns=['Quartile', 'Doubles per At Bat per Player'])\n",
    "df2 "
   ]
  },
  {
   "cell_type": "code",
   "execution_count": 39,
   "metadata": {},
   "outputs": [
    {
     "name": "stdout",
     "output_type": "stream",
     "text": [
      "            sum_sq      df          F    PR(>F)\n",
      "quartile  0.002100     1.0  11.951267  0.000556\n",
      "Residual  0.388655  2212.0        NaN       NaN\n"
     ]
    }
   ],
   "source": [
    "model = ols('DOAB ~ quartile', data = baseball).fit()\n",
    "aov = sm.stats.anova_lm(model, typ=2)\n",
    "print(aov)"
   ]
  },
  {
   "cell_type": "code",
   "execution_count": 40,
   "metadata": {},
   "outputs": [
    {
     "name": "stdout",
     "output_type": "stream",
     "text": [
      "            sum_sq      df         F    PR(>F)\n",
      "quartile  0.000261     1.0  1.467323  0.225941\n",
      "Residual  0.294386  1658.0       NaN       NaN\n"
     ]
    }
   ],
   "source": [
    "model = ols('DOAB ~ quartile', data = baseball123).fit()\n",
    "aov = sm.stats.anova_lm(model, typ=2)\n",
    "print(aov)"
   ]
  },
  {
   "cell_type": "code",
   "execution_count": 41,
   "metadata": {},
   "outputs": [
    {
     "name": "stdout",
     "output_type": "stream",
     "text": [
      "            sum_sq      df         F    PR(>F)\n",
      "quartile  0.001245     1.0  6.620733  0.010209\n",
      "Residual  0.208334  1108.0       NaN       NaN\n"
     ]
    }
   ],
   "source": [
    "model = ols('DOAB ~ quartile', data = baseball12).fit()\n",
    "aov = sm.stats.anova_lm(model, typ=2)\n",
    "print(aov) "
   ]
  },
  {
   "cell_type": "code",
   "execution_count": 42,
   "metadata": {},
   "outputs": [
    {
     "data": {
      "image/png": "[encoded data removed]",
      "text/plain": [
       "<Figure size 432x288 with 1 Axes>"
      ]
     },
     "metadata": {
      "needs_background": "light"
     },
     "output_type": "display_data"
    }
   ],
   "source": [
    "objects = ('First Quartile', 'Second Quartile', 'Third Quartile', 'Fourth Quartile')\n",
    "y_pos = np.arange(len(objects))\n",
    "performance = [baseball_1st.RBIAB.mean(),baseball_2nd.RBIAB.mean(),baseball_3rd.RBIAB.mean(),baseball_4th.RBIAB.mean()]\n",
    "\n",
    "plt.bar(y_pos, performance, align='center', alpha=0.5)\n",
    "plt.xticks(y_pos, objects)\n",
    "plt.ylabel('RBIs per at bat per at bat per Player')\n",
    "plt.title('RBIs per at bat per Salary Quartile')\n",
    "\n",
    "plt.show()\n",
    "\n",
    "\n"
   ]
  },
  {
   "cell_type": "code",
   "execution_count": 43,
   "metadata": {},
   "outputs": [
    {
     "data": {
      "text/html": [
       "<div>\n",
       "<style scoped>\n",
       "    .dataframe tbody tr th:only-of-type {\n",
       "        vertical-align: middle;\n",
       "    }\n",
       "\n",
       "    .dataframe tbody tr th {\n",
       "        vertical-align: top;\n",
       "    }\n",
       "\n",
       "    .dataframe thead th {\n",
       "        text-align: right;\n",
       "    }\n",
       "</style>\n",
       "<table border=\"1\" class=\"dataframe\">\n",
       "  <thead>\n",
       "    <tr style=\"text-align: right;\">\n",
       "      <th></th>\n",
       "      <th>Quartile</th>\n",
       "      <th>RBIs per At Bat per Player</th>\n",
       "    </tr>\n",
       "  </thead>\n",
       "  <tbody>\n",
       "    <tr>\n",
       "      <th>0</th>\n",
       "      <td>1</td>\n",
       "      <td>0.121059</td>\n",
       "    </tr>\n",
       "    <tr>\n",
       "      <th>1</th>\n",
       "      <td>2</td>\n",
       "      <td>0.120435</td>\n",
       "    </tr>\n",
       "    <tr>\n",
       "      <th>2</th>\n",
       "      <td>3</td>\n",
       "      <td>0.131196</td>\n",
       "    </tr>\n",
       "    <tr>\n",
       "      <th>3</th>\n",
       "      <td>4</td>\n",
       "      <td>0.147746</td>\n",
       "    </tr>\n",
       "  </tbody>\n",
       "</table>\n",
       "</div>"
      ],
      "text/plain": [
       "   Quartile  RBIs per At Bat per Player\n",
       "0         1                    0.121059\n",
       "1         2                    0.120435\n",
       "2         3                    0.131196\n",
       "3         4                    0.147746"
      ]
     },
     "execution_count": 43,
     "metadata": {},
     "output_type": "execute_result"
    }
   ],
   "source": [
    "d= {'RBIs per At Bat per Player' : [baseball_1st.RBIAB.mean(),baseball_2nd.RBIAB.mean(),baseball_3rd.RBIAB.mean(),baseball_4th.RBIAB.mean()], 'Quartile':[1,2,3,4]}\n",
    "df2 =pd.DataFrame(d, columns=['Quartile', 'RBIs per At Bat per Player'])\n",
    "df2 "
   ]
  },
  {
   "cell_type": "code",
   "execution_count": 44,
   "metadata": {},
   "outputs": [
    {
     "name": "stdout",
     "output_type": "stream",
     "text": [
      "            sum_sq      df          F        PR(>F)\n",
      "quartile  0.228661     1.0  173.62373  3.166825e-38\n",
      "Residual  2.913184  2212.0        NaN           NaN\n"
     ]
    }
   ],
   "source": [
    "model = ols('RBIAB ~ quartile', data = baseball).fit()\n",
    "aov = sm.stats.anova_lm(model, typ=2)\n",
    "print(aov)"
   ]
  },
  {
   "cell_type": "code",
   "execution_count": 45,
   "metadata": {},
   "outputs": [
    {
     "name": "stdout",
     "output_type": "stream",
     "text": [
      "            sum_sq      df          F    PR(>F)\n",
      "quartile  0.028296     1.0  22.423818  0.000002\n",
      "Residual  2.092198  1658.0        NaN       NaN\n"
     ]
    }
   ],
   "source": [
    "model = ols('RBIAB ~ quartile', data = baseball123).fit()\n",
    "aov = sm.stats.anova_lm(model, typ=2)\n",
    "print(aov)"
   ]
  },
  {
   "cell_type": "code",
   "execution_count": 46,
   "metadata": {},
   "outputs": [
    {
     "name": "stdout",
     "output_type": "stream",
     "text": [
      "            sum_sq      df         F    PR(>F)\n",
      "quartile  0.000108     1.0  0.082976  0.773358\n",
      "Residual  1.442891  1108.0       NaN       NaN\n"
     ]
    }
   ],
   "source": [
    "model = ols('RBIAB ~ quartile', data = baseball12).fit()\n",
    "aov = sm.stats.anova_lm(model, typ=2)\n",
    "print(aov) "
   ]
  },
  {
   "cell_type": "code",
   "execution_count": 47,
   "metadata": {},
   "outputs": [
    {
     "data": {
      "image/png": "[encoded data removed]",
      "text/plain": [
       "<Figure size 432x288 with 1 Axes>"
      ]
     },
     "metadata": {
      "needs_background": "light"
     },
     "output_type": "display_data"
    }
   ],
   "source": [
    "objects = ('First Quartile', 'Second Quartile', 'Third Quartile', 'Fourth Quartile')\n",
    "y_pos = np.arange(len(objects))\n",
    "performance = [baseball_1st.BBAB.mean(),baseball_2nd.BBAB.mean(),baseball_3rd.BBAB.mean(),baseball_4th.BBAB.mean()]\n",
    "\n",
    "plt.bar(y_pos, performance, align='center', alpha=0.5)\n",
    "plt.xticks(y_pos, objects)\n",
    "plt.ylabel('Walks per at bat per Player')\n",
    "plt.title('Walks per at bat per Quartile')\n",
    "\n",
    "plt.show()\n",
    "\n",
    "\n"
   ]
  },
  {
   "cell_type": "code",
   "execution_count": 48,
   "metadata": {},
   "outputs": [
    {
     "data": {
      "text/html": [
       "<div>\n",
       "<style scoped>\n",
       "    .dataframe tbody tr th:only-of-type {\n",
       "        vertical-align: middle;\n",
       "    }\n",
       "\n",
       "    .dataframe tbody tr th {\n",
       "        vertical-align: top;\n",
       "    }\n",
       "\n",
       "    .dataframe thead th {\n",
       "        text-align: right;\n",
       "    }\n",
       "</style>\n",
       "<table border=\"1\" class=\"dataframe\">\n",
       "  <thead>\n",
       "    <tr style=\"text-align: right;\">\n",
       "      <th></th>\n",
       "      <th>Quartile</th>\n",
       "      <th>Walks per At Bat per Player</th>\n",
       "    </tr>\n",
       "  </thead>\n",
       "  <tbody>\n",
       "    <tr>\n",
       "      <th>0</th>\n",
       "      <td>1</td>\n",
       "      <td>0.090942</td>\n",
       "    </tr>\n",
       "    <tr>\n",
       "      <th>1</th>\n",
       "      <td>2</td>\n",
       "      <td>0.090826</td>\n",
       "    </tr>\n",
       "    <tr>\n",
       "      <th>2</th>\n",
       "      <td>3</td>\n",
       "      <td>0.096499</td>\n",
       "    </tr>\n",
       "    <tr>\n",
       "      <th>3</th>\n",
       "      <td>4</td>\n",
       "      <td>0.110254</td>\n",
       "    </tr>\n",
       "  </tbody>\n",
       "</table>\n",
       "</div>"
      ],
      "text/plain": [
       "   Quartile  Walks per At Bat per Player\n",
       "0         1                     0.090942\n",
       "1         2                     0.090826\n",
       "2         3                     0.096499\n",
       "3         4                     0.110254"
      ]
     },
     "execution_count": 48,
     "metadata": {},
     "output_type": "execute_result"
    }
   ],
   "source": [
    "d= {'Walks per At Bat per Player' : [baseball_1st.BBAB.mean(),baseball_2nd.BBAB.mean(),baseball_3rd.BBAB.mean(),baseball_4th.BBAB.mean()], 'Quartile':[1,2,3,4]}\n",
    "df2 =pd.DataFrame(d, columns=['Quartile', 'Walks per At Bat per Player'])\n",
    "df2 "
   ]
  },
  {
   "cell_type": "code",
   "execution_count": 49,
   "metadata": {},
   "outputs": [
    {
     "name": "stdout",
     "output_type": "stream",
     "text": [
      "            sum_sq      df          F        PR(>F)\n",
      "quartile  0.112193     1.0  75.895156  5.748669e-18\n",
      "Residual  3.269919  2212.0        NaN           NaN\n"
     ]
    }
   ],
   "source": [
    "model = ols('BBAB ~ quartile', data = baseball).fit()\n",
    "aov = sm.stats.anova_lm(model, typ=2)\n",
    "print(aov)"
   ]
  },
  {
   "cell_type": "code",
   "execution_count": 50,
   "metadata": {},
   "outputs": [
    {
     "name": "stdout",
     "output_type": "stream",
     "text": [
      "            sum_sq      df         F    PR(>F)\n",
      "quartile  0.008508     1.0  6.619098  0.010175\n",
      "Residual  2.131094  1658.0       NaN       NaN\n"
     ]
    }
   ],
   "source": [
    "model = ols('BBAB ~ quartile', data = baseball123).fit()\n",
    "aov = sm.stats.anova_lm(model, typ=2)\n",
    "print(aov)"
   ]
  },
  {
   "cell_type": "code",
   "execution_count": 51,
   "metadata": {},
   "outputs": [
    {
     "name": "stdout",
     "output_type": "stream",
     "text": [
      "            sum_sq      df         F   PR(>F)\n",
      "quartile  0.000004     1.0  0.002999  0.95634\n",
      "Residual  1.369623  1108.0       NaN      NaN\n"
     ]
    }
   ],
   "source": [
    "model = ols('BBAB ~ quartile', data = baseball12).fit()\n",
    "aov = sm.stats.anova_lm(model, typ=2)\n",
    "print(aov) "
   ]
  },
  {
   "cell_type": "code",
   "execution_count": 52,
   "metadata": {},
   "outputs": [
    {
     "data": {
      "image/png": "[encoded data removed]",
      "text/plain": [
       "<Figure size 432x288 with 1 Axes>"
      ]
     },
     "metadata": {
      "needs_background": "light"
     },
     "output_type": "display_data"
    }
   ],
   "source": [
    "objects = ('First Quartile', 'Second Quartile', 'Third Quartile', 'Fourth Quartile')\n",
    "y_pos = np.arange(len(objects))\n",
    "performance = [baseball_1st.SOAB.mean(),baseball_2nd.SOAB.mean(),baseball_3rd.SOAB.mean(),baseball_4th.SOAB.mean()]\n",
    "\n",
    "plt.bar(y_pos, performance, align='center', alpha=0.5)\n",
    "plt.xticks(y_pos, objects)\n",
    "plt.ylabel('SO per at bat per at bat per Player')\n",
    "plt.title('SO per at bat per Quartile')\n",
    "\n",
    "plt.show()\n",
    "\n",
    "\n"
   ]
  },
  {
   "cell_type": "code",
   "execution_count": 53,
   "metadata": {},
   "outputs": [
    {
     "data": {
      "text/html": [
       "<div>\n",
       "<style scoped>\n",
       "    .dataframe tbody tr th:only-of-type {\n",
       "        vertical-align: middle;\n",
       "    }\n",
       "\n",
       "    .dataframe tbody tr th {\n",
       "        vertical-align: top;\n",
       "    }\n",
       "\n",
       "    .dataframe thead th {\n",
       "        text-align: right;\n",
       "    }\n",
       "</style>\n",
       "<table border=\"1\" class=\"dataframe\">\n",
       "  <thead>\n",
       "    <tr style=\"text-align: right;\">\n",
       "      <th></th>\n",
       "      <th>Quartile</th>\n",
       "      <th>Strikeout per At Bat per Player</th>\n",
       "    </tr>\n",
       "  </thead>\n",
       "  <tbody>\n",
       "    <tr>\n",
       "      <th>0</th>\n",
       "      <td>1</td>\n",
       "      <td>0.211478</td>\n",
       "    </tr>\n",
       "    <tr>\n",
       "      <th>1</th>\n",
       "      <td>2</td>\n",
       "      <td>0.202116</td>\n",
       "    </tr>\n",
       "    <tr>\n",
       "      <th>2</th>\n",
       "      <td>3</td>\n",
       "      <td>0.195054</td>\n",
       "    </tr>\n",
       "    <tr>\n",
       "      <th>3</th>\n",
       "      <td>4</td>\n",
       "      <td>0.195218</td>\n",
       "    </tr>\n",
       "  </tbody>\n",
       "</table>\n",
       "</div>"
      ],
      "text/plain": [
       "   Quartile  Strikeout per At Bat per Player\n",
       "0         1                         0.211478\n",
       "1         2                         0.202116\n",
       "2         3                         0.195054\n",
       "3         4                         0.195218"
      ]
     },
     "execution_count": 53,
     "metadata": {},
     "output_type": "execute_result"
    }
   ],
   "source": [
    "d= {'Strikeout per At Bat per Player' : [baseball_1st.SOAB.mean(),baseball_2nd.SOAB.mean(),baseball_3rd.SOAB.mean(),baseball_4th.SOAB.mean()], 'Quartile':[1,2,3,4]}\n",
    "df2 =pd.DataFrame(d, columns=['Quartile', 'Strikeout per At Bat per Player'])\n",
    "df2 "
   ]
  },
  {
   "cell_type": "code",
   "execution_count": 54,
   "metadata": {},
   "outputs": [
    {
     "name": "stdout",
     "output_type": "stream",
     "text": [
      "            sum_sq      df          F    PR(>F)\n",
      "quartile  0.086487     1.0  20.366353  0.000007\n",
      "Residual  9.393386  2212.0        NaN       NaN\n"
     ]
    }
   ],
   "source": [
    "model = ols('SOAB ~ quartile', data = baseball).fit()\n",
    "aov = sm.stats.anova_lm(model, typ=2)\n",
    "print(aov) "
   ]
  },
  {
   "cell_type": "code",
   "execution_count": 55,
   "metadata": {},
   "outputs": [
    {
     "name": "stdout",
     "output_type": "stream",
     "text": [
      "            sum_sq      df          F    PR(>F)\n",
      "quartile  0.074618     1.0  17.652663  0.000028\n",
      "Residual  7.008350  1658.0        NaN       NaN\n"
     ]
    }
   ],
   "source": [
    "model = ols('SOAB ~ quartile', data = baseball123).fit()\n",
    "aov = sm.stats.anova_lm(model, typ=2)\n",
    "print(aov) "
   ]
  },
  {
   "cell_type": "code",
   "execution_count": 56,
   "metadata": {},
   "outputs": [
    {
     "name": "stdout",
     "output_type": "stream",
     "text": [
      "            sum_sq      df         F   PR(>F)\n",
      "quartile  0.024322     1.0  5.907968  0.01523\n",
      "Residual  4.561420  1108.0       NaN      NaN\n"
     ]
    }
   ],
   "source": [
    "model = ols('SOAB ~ quartile', data = baseball12).fit()\n",
    "aov = sm.stats.anova_lm(model, typ=2)\n",
    "print(aov) "
   ]
  },
  {
   "cell_type": "code",
   "execution_count": 61,
   "metadata": {},
   "outputs": [],
   "source": [
    "from sklearn import linear_model\n"
   ]
  },
  {
   "cell_type": "code",
   "execution_count": 64,
   "metadata": {},
   "outputs": [],
   "source": [
    "baseballPred = baseball[['SOAB', 'BBAB', 'BA', 'HRAB', 'TRAB', 'DOAB', 'RBIAB', 'salary']]"
   ]
  },
  {
   "cell_type": "code",
   "execution_count": 65,
   "metadata": {},
   "outputs": [
    {
     "name": "stdout",
     "output_type": "stream",
     "text": [
      "                            OLS Regression Results                            \n",
      "==============================================================================\n",
      "Dep. Variable:                 salary   R-squared:                       0.164\n",
      "Model:                            OLS   Adj. R-squared:                  0.161\n",
      "Method:                 Least Squares   F-statistic:                     61.89\n",
      "Date:                Thu, 30 May 2019   Prob (F-statistic):           1.74e-81\n",
      "Time:                        17:55:30   Log-Likelihood:                -37386.\n",
      "No. Observations:                2214   AIC:                         7.479e+04\n",
      "Df Residuals:                    2206   BIC:                         7.483e+04\n",
      "Df Model:                           7                                         \n",
      "Covariance Type:            nonrobust                                         \n",
      "==============================================================================\n",
      "                 coef    std err          t      P>|t|      [0.025      0.975]\n",
      "------------------------------------------------------------------------------\n",
      "Intercept  -8.379e+04   1.41e+06     -0.059      0.953   -2.85e+06    2.68e+06\n",
      "SOAB        -1.61e+07   2.32e+06     -6.940      0.000   -2.06e+07   -1.15e+07\n",
      "BBAB        2.295e+07   3.17e+06      7.242      0.000    1.67e+07    2.92e+07\n",
      "BA          2.055e+07   5.18e+06      3.970      0.000    1.04e+07    3.07e+07\n",
      "HRAB        5.157e+07   1.24e+07      4.162      0.000    2.73e+07    7.59e+07\n",
      "TRAB       -1.565e+08   2.28e+07     -6.875      0.000   -2.01e+08   -1.12e+08\n",
      "DOAB       -4.384e+07   9.87e+06     -4.442      0.000   -6.32e+07   -2.45e+07\n",
      "RBIAB       1.717e+07   5.85e+06      2.935      0.003     5.7e+06    2.86e+07\n",
      "==============================================================================\n",
      "Omnibus:                      457.202   Durbin-Watson:                   1.906\n",
      "Prob(Omnibus):                  0.000   Jarque-Bera (JB):              854.267\n",
      "Skew:                           1.261   Prob(JB):                    3.15e-186\n",
      "Kurtosis:                       4.703   Cond. No.                         220.\n",
      "==============================================================================\n",
      "\n",
      "Warnings:\n",
      "[1] Standard Errors assume that the covariance matrix of the errors is correctly specified.\n",
      "                            OLS Regression Results                            \n",
      "==============================================================================\n",
      "Dep. Variable:                 salary   R-squared:                       0.093\n",
      "Model:                            OLS   Adj. R-squared:                  0.092\n",
      "Method:                 Least Squares   F-statistic:                     113.1\n",
      "Date:                Thu, 30 May 2019   Prob (F-statistic):           1.76e-47\n",
      "Time:                        17:55:30   Log-Likelihood:                -37477.\n",
      "No. Observations:                2214   AIC:                         7.496e+04\n",
      "Df Residuals:                    2211   BIC:                         7.498e+04\n",
      "Df Model:                           2                                         \n",
      "Covariance Type:            nonrobust                                         \n",
      "==============================================================================\n",
      "                 coef    std err          t      P>|t|      [0.025      0.975]\n",
      "------------------------------------------------------------------------------\n",
      "Intercept  -5.295e+06   1.06e+06     -4.981      0.000   -7.38e+06   -3.21e+06\n",
      "BA          2.923e+07   3.94e+06      7.421      0.000    2.15e+07     3.7e+07\n",
      "HRAB        8.008e+07   6.41e+06     12.498      0.000    6.75e+07    9.26e+07\n",
      "==============================================================================\n",
      "Omnibus:                      476.250   Durbin-Watson:                   1.929\n",
      "Prob(Omnibus):                  0.000   Jarque-Bera (JB):              895.472\n",
      "Skew:                           1.311   Prob(JB):                    3.55e-195\n",
      "Kurtosis:                       4.682   Cond. No.                         57.5\n",
      "==============================================================================\n",
      "\n",
      "Warnings:\n",
      "[1] Standard Errors assume that the covariance matrix of the errors is correctly specified.\n",
      "                 Generalized Linear Model Regression Results                  \n",
      "==============================================================================\n",
      "Dep. Variable:                 salary   No. Observations:                 2214\n",
      "Model:                            GLM   Df Residuals:                     2206\n",
      "Model Family:                Gaussian   Df Model:                            7\n",
      "Link Function:               identity   Scale:                      2.7310e+13\n",
      "Method:                          IRLS   Log-Likelihood:                -37386.\n",
      "Date:                Thu, 30 May 2019   Deviance:                   6.0247e+16\n",
      "Time:                        17:55:30   Pearson chi2:                 6.02e+16\n",
      "No. Iterations:                     3   Covariance Type:             nonrobust\n",
      "==============================================================================\n",
      "                 coef    std err          z      P>|z|      [0.025      0.975]\n",
      "------------------------------------------------------------------------------\n",
      "Intercept  -8.379e+04   1.41e+06     -0.059      0.953   -2.85e+06    2.68e+06\n",
      "SOAB        -1.61e+07   2.32e+06     -6.940      0.000   -2.06e+07   -1.16e+07\n",
      "BBAB        2.295e+07   3.17e+06      7.242      0.000    1.67e+07    2.92e+07\n",
      "BA          2.055e+07   5.18e+06      3.970      0.000    1.04e+07    3.07e+07\n",
      "HRAB        5.157e+07   1.24e+07      4.162      0.000    2.73e+07    7.59e+07\n",
      "TRAB       -1.565e+08   2.28e+07     -6.875      0.000   -2.01e+08   -1.12e+08\n",
      "DOAB       -4.384e+07   9.87e+06     -4.442      0.000   -6.32e+07   -2.45e+07\n",
      "RBIAB       1.717e+07   5.85e+06      2.935      0.003     5.7e+06    2.86e+07\n",
      "==============================================================================\n",
      "                 Generalized Linear Model Regression Results                  \n",
      "==============================================================================\n",
      "Dep. Variable:                 salary   No. Observations:                 2214\n",
      "Model:                            GLM   Df Residuals:                     2210\n",
      "Model Family:                Gaussian   Df Model:                            3\n",
      "Link Function:               identity   Scale:                      2.9172e+13\n",
      "Method:                          IRLS   Log-Likelihood:                -37461.\n",
      "Date:                Thu, 30 May 2019   Deviance:                   6.4471e+16\n",
      "Time:                        17:55:30   Pearson chi2:                 6.45e+16\n",
      "No. Iterations:                     3   Covariance Type:             nonrobust\n",
      "==============================================================================\n",
      "                 coef    std err          z      P>|z|      [0.025      0.975]\n",
      "------------------------------------------------------------------------------\n",
      "Intercept  -6.763e+06   1.09e+06     -6.217      0.000   -8.89e+06   -4.63e+06\n",
      "BA          3.005e+07   3.91e+06      7.677      0.000    2.24e+07    3.77e+07\n",
      "HRAB        6.444e+07   6.95e+06      9.277      0.000    5.08e+07    7.81e+07\n",
      "BBAB        1.799e+07   3.21e+06      5.613      0.000    1.17e+07    2.43e+07\n",
      "==============================================================================\n"
     ]
    }
   ],
   "source": [
    "model = smf.ols('salary ~ SOAB + BBAB + BA + HRAB + TRAB + DOAB + RBIAB', data = baseballPred)\n",
    "results = model.fit()\n",
    "print(results.summary())\n",
    "#yhat = model.predict(baseballPred)\n",
    "#print(yhat)\n",
    "\n",
    "model = smf.ols('salary ~ BA + HRAB', data = baseballPred)\n",
    "results = model.fit()\n",
    "print(results.summary())\n",
    "\n",
    "model = sm.formula.glm(\"salary ~ SOAB + BBAB + BA + HRAB + TRAB + DOAB + RBIAB\", data=baseballPred).fit()\n",
    "print(model.summary())\n",
    "\n",
    "model = sm.formula.glm(\"salary ~ BA + HRAB + BBAB\", data=baseballPred).fit()\n",
    "print(model.summary())\n"
   ]
  }
 ],
 "metadata": {
  "kernelspec": {
   "display_name": "Python 3",
   "language": "python",
   "name": "python3"
  },
  "language_info": {
   "codemirror_mode": {
    "name": "ipython",
    "version": 3
   },
   "file_extension": ".py",
   "mimetype": "text/x-python",
   "name": "python",
   "nbconvert_exporter": "python",
   "pygments_lexer": "ipython3",
   "version": "3.7.3"
  }
 },
 "nbformat": 4,
 "nbformat_minor": 2
}
